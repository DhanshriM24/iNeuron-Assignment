{
 "cells": [
  {
   "cell_type": "markdown",
   "id": "301c8114",
   "metadata": {},
   "source": [
    "### SQL Assignment 8\n",
    "-------------"
   ]
  },
  {
   "cell_type": "markdown",
   "id": "541b69ba",
   "metadata": {},
   "source": [
    "### Q-1. Write an SQL query to fetch intersecting records of two tables.\n",
    "\n",
    "Ans : SELECT  ID, NAME, Amount, Date\n",
    "     FROM Customers\n",
    "     LEFT JOIN Orders\n",
    "     ON Customers.ID = Orders.Customer_id <BR>\n",
    "INTERSECT <BR>\n",
    "     SELECT  ID, NAME, Amount, Date\n",
    "     FROM Customers\n",
    "     RIGHT JOIN Orders\n",
    "     ON Customers.ID = Orders.Customer_id;\n",
    "     \n",
    "     \n",
    "### Q-2. Write an SQL query to show records from one table that another table does not have.\n",
    "\n",
    "Ans : SELECT * FROM employee_details WHERE emp_id NOT IN(SELECT emp_id  FROM employee_resigned)"
   ]
  },
  {
   "cell_type": "code",
   "execution_count": null,
   "id": "4d73c1a6",
   "metadata": {},
   "outputs": [],
   "source": []
  }
 ],
 "metadata": {
  "kernelspec": {
   "display_name": "Python 3",
   "language": "python",
   "name": "python3"
  },
  "language_info": {
   "codemirror_mode": {
    "name": "ipython",
    "version": 3
   },
   "file_extension": ".py",
   "mimetype": "text/x-python",
   "name": "python",
   "nbconvert_exporter": "python",
   "pygments_lexer": "ipython3",
   "version": "3.8.8"
  }
 },
 "nbformat": 4,
 "nbformat_minor": 5
}
