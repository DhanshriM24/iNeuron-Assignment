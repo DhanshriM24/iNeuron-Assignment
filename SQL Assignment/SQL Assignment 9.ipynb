{
 "cells": [
  {
   "cell_type": "markdown",
   "id": "817bca3d",
   "metadata": {},
   "source": [
    "### SQL Assignment 9\n",
    "-------------"
   ]
  },
  {
   "cell_type": "markdown",
   "id": "30398a69",
   "metadata": {},
   "source": [
    "### Q1. Write an SQL query to show the top n (say 10) records of a table.\n",
    "\n",
    "Ans : SELECT TOP 10 * FROM Worker;  \n",
    "      SELECT * FROM Worker LIMIT 10;\n",
    "           \n",
    "### Q2. Write an SQL query to determine the nth (say n=5) highest salary from a table.\n",
    "\n",
    "Ans : SELECT DISTINCT(Salary) FROM Worker ORDER BY DESC LIMIT 1 OFFSET 5;"
   ]
  },
  {
   "cell_type": "code",
   "execution_count": null,
   "id": "b7e40fcc",
   "metadata": {},
   "outputs": [],
   "source": []
  }
 ],
 "metadata": {
  "kernelspec": {
   "display_name": "Python 3",
   "language": "python",
   "name": "python3"
  },
  "language_info": {
   "codemirror_mode": {
    "name": "ipython",
    "version": 3
   },
   "file_extension": ".py",
   "mimetype": "text/x-python",
   "name": "python",
   "nbconvert_exporter": "python",
   "pygments_lexer": "ipython3",
   "version": "3.8.8"
  }
 },
 "nbformat": 4,
 "nbformat_minor": 5
}
