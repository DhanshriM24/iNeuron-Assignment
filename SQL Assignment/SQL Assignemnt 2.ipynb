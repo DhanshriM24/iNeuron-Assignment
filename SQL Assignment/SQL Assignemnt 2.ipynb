{
 "cells": [
  {
   "cell_type": "markdown",
   "id": "efc0b954",
   "metadata": {},
   "source": [
    "### SQL Assignment 2\n",
    "-------------"
   ]
  },
  {
   "cell_type": "markdown",
   "id": "9886a3f4",
   "metadata": {},
   "source": [
    "### Q-1. Write an SQL query to print the first three characters of  FIRST_NAME from Worker table.\n",
    "\n",
    "Ans : SELECT LEFT(FIRST_NAME,3) AS FirstThree FROM Worker \n",
    "\n",
    "### Q-2. Write an SQL query to find the position of the alphabet (‘a’) in the first name column ‘Amitabh’ from Worker table.\n",
    "\n",
    "Ans : SELECT INSTR(FIRST_NAME, BINARY'a') FROM Worker where FIRST_NAME = 'Amitabh';\n",
    "\n",
    "### Q-3. Write an SQL query to print the name of employees having the highest salary in each department.\n",
    "\n",
    "Ans : SELECT NAME,SALARY FROM WORKER w WHERE SALARY = (SELECT MAX(salary) FROM Worker WHERE department = w.department)"
   ]
  },
  {
   "cell_type": "code",
   "execution_count": null,
   "id": "90897614",
   "metadata": {},
   "outputs": [],
   "source": []
  }
 ],
 "metadata": {
  "kernelspec": {
   "display_name": "Python 3",
   "language": "python",
   "name": "python3"
  },
  "language_info": {
   "codemirror_mode": {
    "name": "ipython",
    "version": 3
   },
   "file_extension": ".py",
   "mimetype": "text/x-python",
   "name": "python",
   "nbconvert_exporter": "python",
   "pygments_lexer": "ipython3",
   "version": "3.8.8"
  }
 },
 "nbformat": 4,
 "nbformat_minor": 5
}
