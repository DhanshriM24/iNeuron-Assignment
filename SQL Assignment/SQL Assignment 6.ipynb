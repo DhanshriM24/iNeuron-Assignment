{
 "cells": [
  {
   "cell_type": "markdown",
   "id": "8c4cc6af",
   "metadata": {},
   "source": [
    "### SQL Assignment 6\n",
    "-------------"
   ]
  },
  {
   "cell_type": "markdown",
   "id": "0b34ffd3",
   "metadata": {},
   "source": [
    "### Q-1. Write an SQL query to print details of the Workers who have joined in Feb’2014.\n",
    "\n",
    "Ans : SELECT * FROM Worker WHERE YEAR(JOINING_DATE) = 2014 AND MONTH(JOINING_DATE) = 02;\n",
    "\n",
    "### Q-2. Write an SQL query to fetch duplicate records having matching data in some fields of a table.\n",
    "\n",
    "Ans : SELECT column_name, COUNT(column_name) FROM Worker GROUP BY FEILD HAVING COUNT(column_name) > 1;\n",
    "\n",
    "### Q-3. How to remove duplicate rows from Employees table.\n",
    "\n",
    "Ans : CREATE TABLE Employee ( ID INT PRIMARY KEY AUTO_INCREMENT NOT NULL, FIRST_NAME VARCHAR(50),<br> LAST_NAME VARCHAR(50),<br>  COUNTRY VARCHAR(50) );<br> \n",
    "\n",
    "INSERT INTO Employee VALUES (1,'RANI','SHARMA','INDIA'),<br>  (2,'RANI','SHARMA','INDIA'), <br> (3,'RANI','SHARMA','INDIA'),<br>  (4,'DHANSHRI','MANUSMARE','USA'),<br>  (5,'DHANSHRI','MANUSMARE','USA'), <br> (6,'DHANSHRI','MANUSMARE','USA');\n",
    "\n",
    "DELETE e1.* from employee e1 INNER JOIN employee e2 WHERE e1.id > e2.id AND e1.FIRST_NAME = e2.FIRST_NAME AND e1.LAST_NAME = e2.LAST_NAME AND e1.COUNTRY = e2.COUNTRY;"
   ]
  },
  {
   "cell_type": "code",
   "execution_count": null,
   "id": "70d74bc9",
   "metadata": {},
   "outputs": [],
   "source": []
  }
 ],
 "metadata": {
  "kernelspec": {
   "display_name": "Python 3",
   "language": "python",
   "name": "python3"
  },
  "language_info": {
   "codemirror_mode": {
    "name": "ipython",
    "version": 3
   },
   "file_extension": ".py",
   "mimetype": "text/x-python",
   "name": "python",
   "nbconvert_exporter": "python",
   "pygments_lexer": "ipython3",
   "version": "3.8.8"
  }
 },
 "nbformat": 4,
 "nbformat_minor": 5
}
