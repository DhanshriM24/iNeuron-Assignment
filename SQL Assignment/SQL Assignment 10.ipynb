{
 "cells": [
  {
   "cell_type": "markdown",
   "id": "e0fef700",
   "metadata": {},
   "source": [
    "### SQL Assignment 10\n",
    "-------------"
   ]
  },
  {
   "cell_type": "markdown",
   "id": "3016fd8a",
   "metadata": {},
   "source": [
    "### Q-1. Write an SQL query to determine the 5th highest salary without using TOP or limit method.\n",
    "\n",
    "Ans : SELECT * FROM (SELECT ROW_NUMBER() OVER (ORDER BY salary DESC) AS R_NUM, first_name, salary FROM employee) as HEllO WHERE        R_NUM=5;\n",
    "\n",
    "### Q-2. Write an SQL query to fetch the list of employees with the same salary.\n",
    "\n",
    "Ans : SELECT DISTINCT e.id,e.name,e.salary from employees e ,employees e1 WHERE e.salary=e1.salary AND e.id != e1.id"
   ]
  },
  {
   "cell_type": "code",
   "execution_count": null,
   "id": "f66aa4cd",
   "metadata": {},
   "outputs": [],
   "source": []
  }
 ],
 "metadata": {
  "kernelspec": {
   "display_name": "Python 3",
   "language": "python",
   "name": "python3"
  },
  "language_info": {
   "codemirror_mode": {
    "name": "ipython",
    "version": 3
   },
   "file_extension": ".py",
   "mimetype": "text/x-python",
   "name": "python",
   "nbconvert_exporter": "python",
   "pygments_lexer": "ipython3",
   "version": "3.8.8"
  }
 },
 "nbformat": 4,
 "nbformat_minor": 5
}
