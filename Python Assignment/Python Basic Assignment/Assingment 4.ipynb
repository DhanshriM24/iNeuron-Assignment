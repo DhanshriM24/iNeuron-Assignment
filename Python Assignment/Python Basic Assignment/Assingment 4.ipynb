{
 "cells": [
  {
   "cell_type": "markdown",
   "id": "294f833f",
   "metadata": {},
   "source": [
    "## Python Basic Assignment\n",
    "## Assignment  4"
   ]
  },
  {
   "cell_type": "markdown",
   "id": "3cf03597",
   "metadata": {},
   "source": [
    "#### 1. What exactly is []?\n",
    "#### ans:\n",
    "    [] is the empty list."
   ]
  },
  {
   "cell_type": "markdown",
   "id": "db821fdf",
   "metadata": {},
   "source": [
    "#### 2. In a list of values stored in a variable called spam, how would you assign the value 'hello' as the third value? (Assume [2, 4, 6, 8, 10] are in spam.)\n",
    "\n",
    "#### ans:\n",
    "    To assign 'hello' at 3rd value.We need to modify the value at index 2 of list"
   ]
  },
  {
   "cell_type": "code",
   "execution_count": 3,
   "id": "f5746c74",
   "metadata": {},
   "outputs": [
    {
     "name": "stdout",
     "output_type": "stream",
     "text": [
      "[2, 4, 6, 8, 10]\n"
     ]
    }
   ],
   "source": [
    "spam = [2, 4, 6, 8, 10]\n",
    "print(spam)"
   ]
  },
  {
   "cell_type": "code",
   "execution_count": 4,
   "id": "78f4f735",
   "metadata": {},
   "outputs": [
    {
     "name": "stdout",
     "output_type": "stream",
     "text": [
      "[2, 4, 'hello', 8, 10]\n"
     ]
    }
   ],
   "source": [
    "spam[2] = 'hello'\n",
    "print(spam)"
   ]
  },
  {
   "cell_type": "markdown",
   "id": "3c5335f2",
   "metadata": {},
   "source": [
    "## Let's pretend the spam includes the list ['a', 'b', 'c', 'd'] for the next three queries."
   ]
  },
  {
   "cell_type": "code",
   "execution_count": 5,
   "id": "16a83a44",
   "metadata": {},
   "outputs": [],
   "source": [
    "spam = ['a', 'b', 'c', 'd']"
   ]
  },
  {
   "cell_type": "markdown",
   "id": "c7970325",
   "metadata": {},
   "source": [
    "#### 3. What is the value of spam[int(int('3' * 2) / 11)]?"
   ]
  },
  {
   "cell_type": "code",
   "execution_count": 6,
   "id": "5e87169a",
   "metadata": {},
   "outputs": [
    {
     "data": {
      "text/plain": [
       "'d'"
      ]
     },
     "execution_count": 6,
     "metadata": {},
     "output_type": "execute_result"
    }
   ],
   "source": [
    "spam[int(int('3' * 2) / 11)]"
   ]
  },
  {
   "cell_type": "markdown",
   "id": "3020fcc7",
   "metadata": {},
   "source": [
    "#### 4. What is the value of spam[-1]?"
   ]
  },
  {
   "cell_type": "code",
   "execution_count": 8,
   "id": "62fb9015",
   "metadata": {},
   "outputs": [
    {
     "data": {
      "text/plain": [
       "'d'"
      ]
     },
     "execution_count": 8,
     "metadata": {},
     "output_type": "execute_result"
    }
   ],
   "source": [
    " spam[-1]"
   ]
  },
  {
   "cell_type": "markdown",
   "id": "cb8c02cb",
   "metadata": {},
   "source": [
    "#### 5. What is the value of spam[:2]?"
   ]
  },
  {
   "cell_type": "code",
   "execution_count": 9,
   "id": "7b2f0749",
   "metadata": {},
   "outputs": [
    {
     "data": {
      "text/plain": [
       "['a', 'b']"
      ]
     },
     "execution_count": 9,
     "metadata": {},
     "output_type": "execute_result"
    }
   ],
   "source": [
    "spam[:2]"
   ]
  },
  {
   "cell_type": "markdown",
   "id": "b3585204",
   "metadata": {},
   "source": [
    "## Let&#39;s pretend bacon has the list [3.14, &#39;cat,&#39; 11, &#39;cat,&#39; True] for the next three questions."
   ]
  },
  {
   "cell_type": "code",
   "execution_count": 10,
   "id": "de6ccaee",
   "metadata": {},
   "outputs": [],
   "source": [
    "bacon = [3.14, 'cat', 11, 'cat', True]"
   ]
  },
  {
   "cell_type": "markdown",
   "id": "b3560387",
   "metadata": {},
   "source": [
    "#### 6. What is the value of bacon.index('cat')?"
   ]
  },
  {
   "cell_type": "code",
   "execution_count": 11,
   "id": "33740624",
   "metadata": {},
   "outputs": [
    {
     "data": {
      "text/plain": [
       "1"
      ]
     },
     "execution_count": 11,
     "metadata": {},
     "output_type": "execute_result"
    }
   ],
   "source": [
    "bacon.index('cat')"
   ]
  },
  {
   "cell_type": "markdown",
   "id": "b0645b40",
   "metadata": {},
   "source": [
    "#### 7. How does bacon.append(99) change the look of the list value in bacon?"
   ]
  },
  {
   "cell_type": "code",
   "execution_count": 12,
   "id": "80c4f7d6",
   "metadata": {},
   "outputs": [],
   "source": [
    "bacon.append(99) "
   ]
  },
  {
   "cell_type": "code",
   "execution_count": 13,
   "id": "d6fb7ae2",
   "metadata": {},
   "outputs": [
    {
     "data": {
      "text/plain": [
       "[3.14, 'cat', 11, 'cat', True, 99]"
      ]
     },
     "execution_count": 13,
     "metadata": {},
     "output_type": "execute_result"
    }
   ],
   "source": [
    "bacon"
   ]
  },
  {
   "cell_type": "markdown",
   "id": "731cdcb3",
   "metadata": {},
   "source": [
    "#### 8. How does bacon.remove('cat') change the look of the list in bacon?"
   ]
  },
  {
   "cell_type": "code",
   "execution_count": 14,
   "id": "3dc35963",
   "metadata": {},
   "outputs": [],
   "source": [
    "bacon.remove('cat') "
   ]
  },
  {
   "cell_type": "code",
   "execution_count": 15,
   "id": "e389f14f",
   "metadata": {},
   "outputs": [
    {
     "data": {
      "text/plain": [
       "[3.14, 11, 'cat', True, 99]"
      ]
     },
     "execution_count": 15,
     "metadata": {},
     "output_type": "execute_result"
    }
   ],
   "source": [
    "bacon"
   ]
  },
  {
   "cell_type": "markdown",
   "id": "db688602",
   "metadata": {},
   "source": [
    "#### 9. What are the list concatenation and list replication operators?\n",
    "\n",
    "#### ans:\n",
    "    List concatenation operator is ‘+’ while list replication operator is ‘*’"
   ]
  },
  {
   "cell_type": "markdown",
   "id": "5eb8023c",
   "metadata": {},
   "source": [
    "#### 10. What is difference between the list methods append() and insert()?\n",
    "\n",
    "#### ans:\n",
    "    Append method appends(add) the given object to the end of the list.\n",
    "    Insert method accepts two arguments, index at which the element needs to be inserted and the object to insert"
   ]
  },
  {
   "cell_type": "markdown",
   "id": "5d5ed809",
   "metadata": {},
   "source": [
    "#### 11. What are the two methods for removing items from a list?\n",
    "#### ans:\n",
    "1. remove() :- This function is used to delete the first occurrence of number mentioned in its arguments.\n",
    "2. pop() :- This method deletes the element at the position mentioned in its arguments."
   ]
  },
  {
   "cell_type": "markdown",
   "id": "8b408718",
   "metadata": {},
   "source": [
    "#### 12. Describe how list values and string values are identical.\n",
    "#### ans:\n",
    "List is a collection of values and string is a collection of characters.Both are iterable in Python."
   ]
  },
  {
   "cell_type": "markdown",
   "id": "4c3d3f20",
   "metadata": {},
   "source": [
    "#### 13. What's the difference between tuples and lists?\n",
    "\n",
    "#### ans:\n",
    "##### List\n",
    "1  List is mutable.<br>\n",
    "2  List iteration is slower and is time consuming.<br>\n",
    "3  List is useful for insertion and deletion operations.<br>\n",
    "4  List consumes more memory.<br>\n",
    "5  List provides many in-built methods.<br>\n",
    "6  List operations are more error prone.<br>\n",
    "\n",
    "##### Tuple\n",
    "1   Tuple is immutable.<br>\n",
    "2\tTuple iteration is faster.<br>\n",
    "3\tTuple is useful for readonly operations like accessing elements.<br>\n",
    "4\tTuples consumes less memory.<br>\n",
    "5\tTuples have less in-built methods.<br>\n",
    "6\tTuples operations are safe.<br>"
   ]
  },
  {
   "cell_type": "markdown",
   "id": "987efdd2",
   "metadata": {},
   "source": [
    "#### 14. How do you type a tuple value that only contains the integer 42?"
   ]
  },
  {
   "cell_type": "code",
   "execution_count": 16,
   "id": "ec531e70",
   "metadata": {},
   "outputs": [],
   "source": [
    "tup = tuple([42])"
   ]
  },
  {
   "cell_type": "code",
   "execution_count": 17,
   "id": "8203e7bd",
   "metadata": {},
   "outputs": [
    {
     "data": {
      "text/plain": [
       "(42,)"
      ]
     },
     "execution_count": 17,
     "metadata": {},
     "output_type": "execute_result"
    }
   ],
   "source": [
    "tup"
   ]
  },
  {
   "cell_type": "markdown",
   "id": "6fbc0504",
   "metadata": {},
   "source": [
    "#### 15. How do you get a list value's tuple form? How do you get a tuple value's list form?"
   ]
  },
  {
   "cell_type": "code",
   "execution_count": 2,
   "id": "7eba7cfd",
   "metadata": {},
   "outputs": [
    {
     "data": {
      "text/plain": [
       "list"
      ]
     },
     "execution_count": 2,
     "metadata": {},
     "output_type": "execute_result"
    }
   ],
   "source": [
    "a = tuple([1,2,3])\n",
    "type(a)  # tuple\n",
    "b = list(a)\n",
    "type(b) # list"
   ]
  },
  {
   "cell_type": "markdown",
   "id": "4ce5bee4",
   "metadata": {},
   "source": [
    "#### 16.Variables that &quot;contain&quot; list values are not necessarily lists themselves. Instead, what do they contain?\n",
    "\n",
    "#### ans -\n",
    "They contain references to the list values"
   ]
  },
  {
   "cell_type": "markdown",
   "id": "7d32dd7b",
   "metadata": {},
   "source": [
    "#### 17. How do you distinguish between copy.copy() and copy.deepcopy()?\n",
    "#### ans-\n",
    "copy() returns a shallow copy of list and deepcopy() return a deep copy of list.\n",
    "deepcopy: In case of deep copy, a copy of object is copied in other object. It means that any changes made to a copy of object do not reflect in the original object.\n",
    "shallow copy: In case of shallow copy, a reference of object is copied in other object. It means that any changes made to a copy of object do reflect in the original object."
   ]
  },
  {
   "cell_type": "code",
   "execution_count": null,
   "id": "4da59125",
   "metadata": {},
   "outputs": [],
   "source": []
  }
 ],
 "metadata": {
  "kernelspec": {
   "display_name": "Python 3",
   "language": "python",
   "name": "python3"
  },
  "language_info": {
   "codemirror_mode": {
    "name": "ipython",
    "version": 3
   },
   "file_extension": ".py",
   "mimetype": "text/x-python",
   "name": "python",
   "nbconvert_exporter": "python",
   "pygments_lexer": "ipython3",
   "version": "3.8.8"
  }
 },
 "nbformat": 4,
 "nbformat_minor": 5
}
