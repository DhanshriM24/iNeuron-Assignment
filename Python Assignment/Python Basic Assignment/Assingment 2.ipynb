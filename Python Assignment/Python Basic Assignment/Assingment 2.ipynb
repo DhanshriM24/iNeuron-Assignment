{
 "cells": [
  {
   "cell_type": "markdown",
   "id": "6ecfc3ca",
   "metadata": {},
   "source": [
    "## Python Basic Assingments"
   ]
  },
  {
   "cell_type": "markdown",
   "id": "6e0195d9",
   "metadata": {},
   "source": [
    "## Assingment 2"
   ]
  },
  {
   "cell_type": "markdown",
   "id": "574b79ca",
   "metadata": {},
   "source": [
    "#### 1.What are the two values of the Boolean data type? How do you write them?\n",
    "#### Ans:\n",
    "There are 2 values of Boolean Data Type<br>\n",
    "True 2. False<br>\n",
    "Syntax: True, False"
   ]
  },
  {
   "cell_type": "code",
   "execution_count": 1,
   "id": "648e4f44",
   "metadata": {},
   "outputs": [
    {
     "name": "stdout",
     "output_type": "stream",
     "text": [
      "a:  True\n",
      "b:  False\n"
     ]
    }
   ],
   "source": [
    "a = True\n",
    "b = False\n",
    "print('a: ', a)\n",
    "print('b: ', b)"
   ]
  },
  {
   "cell_type": "markdown",
   "id": "9569609a",
   "metadata": {},
   "source": [
    "#### 2. What are the three different types of Boolean operators?\n",
    "#### Ans:\n",
    "There different types of Boolean operators are:\n",
    "AND<br>\n",
    "OR<br>\n",
    "NOT<br>"
   ]
  },
  {
   "cell_type": "markdown",
   "id": "8f3e1452",
   "metadata": {},
   "source": [
    "#### 3. Make a list of each Boolean operator's truth tables\n",
    "#### (i.e. every possible combination of Boolean values for the operator and what it evaluate ).\n",
    "#### Ans:"
   ]
  },
  {
   "cell_type": "code",
   "execution_count": 3,
   "id": "7afe7502",
   "metadata": {},
   "outputs": [
    {
     "data": {
      "text/plain": [
       "[1, 0, 0, 0]"
      ]
     },
     "execution_count": 3,
     "metadata": {},
     "output_type": "execute_result"
    }
   ],
   "source": [
    "AND_list = [1 and 1, 1 and 0, 0 and 1, 0 and 0]\n",
    "AND_list"
   ]
  },
  {
   "cell_type": "code",
   "execution_count": 4,
   "id": "f511796b",
   "metadata": {},
   "outputs": [
    {
     "data": {
      "text/plain": [
       "[1, 1, 1, 0]"
      ]
     },
     "execution_count": 4,
     "metadata": {},
     "output_type": "execute_result"
    }
   ],
   "source": [
    "OR_list = [1 or 1, 1 or 0, 0 or 1, 0 or 0]\n",
    "OR_list"
   ]
  },
  {
   "cell_type": "code",
   "execution_count": 5,
   "id": "ddc227f2",
   "metadata": {},
   "outputs": [
    {
     "data": {
      "text/plain": [
       "[False, True]"
      ]
     },
     "execution_count": 5,
     "metadata": {},
     "output_type": "execute_result"
    }
   ],
   "source": [
    "NOT_list = [not 1, not 0]\n",
    "NOT_list"
   ]
  },
  {
   "cell_type": "markdown",
   "id": "511f6dc5",
   "metadata": {},
   "source": [
    "#### 4. What are the values of the following expressions?\n",
    "(5 > 4) and (3 == 5)\n",
    "not (5 > 4)\n",
    "(5 > 4) or (3 == 5)\n",
    "not ((5 > 4) or (3 == 5))\n",
    "(True and True) and (True == False)\n",
    "(not False) or (not True)\n",
    "\n",
    "#### Ans:\n",
    "\n",
    "   1. (5 > 4) and (3 == 5)                   = False<br>\n",
    "   2. not (5 > 4)                            = False<br>\n",
    "   3. (5 > 4) or (3 == 5)                    = True<br>\n",
    "   4. not ((5 > 4) or (3 == 5))              = False <br>\n",
    "   5. (True and True) and (True == False)    = False<br>\n",
    "   6. (not False) or (not True)              = True  <br>\n"
   ]
  },
  {
   "cell_type": "code",
   "execution_count": 6,
   "id": "ade8c287",
   "metadata": {},
   "outputs": [
    {
     "name": "stdout",
     "output_type": "stream",
     "text": [
      "False False True False False True\n"
     ]
    }
   ],
   "source": [
    "print((5 > 4) and (3 == 5),\n",
    "      not (5 > 4),\n",
    "      (5 > 4) or (3 == 5),\n",
    "      not ((5 > 4) or (3 == 5)),\n",
    "      (True and True) and (True == False),\n",
    "      (not False) or (not True)\n",
    "     )"
   ]
  },
  {
   "cell_type": "markdown",
   "id": "729bfced",
   "metadata": {},
   "source": [
    "#### 5. What are the six comparison operators?\n",
    "#### Ans:\n",
    "1. == : is equal to<br>\n",
    "2. != : is not equal to<br>\n",
    "3. >  : is greater than<br>\n",
    "4. <  : is less than<br>\n",
    "5. >= : is greater than or equal to<br>\n",
    "6. <= : is less than or equal to<br>"
   ]
  },
  {
   "cell_type": "markdown",
   "id": "7a8dbf72",
   "metadata": {},
   "source": [
    "#### 6. How do you tell the difference between the equal to and assignment operators?Describe a condition and when you would use one.\n",
    "#### ans:\n",
    "   The “=” is an assignment operator is used to assign the value on the right to the variable on the left.<br>\n",
    "    eg : a = 10;<br>\n",
    "         b = 20;<br>\n",
    "         \n",
    "   The ‘==’ operator checks whether the two given operands are equal or not. If so, it returns true. Otherwise it returns<br>\n",
    "    false.<br>\n",
    "    eg: 2==2<br>\n",
    "        This will return true."
   ]
  },
  {
   "cell_type": "markdown",
   "id": "0df7f946",
   "metadata": {},
   "source": [
    "#### 7. Identify the three blocks in this code:\n",
    "spam = 0<br>\n",
    "if spam == 10:<br>\n",
    "print('eggs')<br>\n",
    "if spam > 5:<br>\n",
    "print('bacon')<br>\n",
    "else:<br>\n",
    "print('ham')<br>\n",
    "print('spam')<br>\n",
    "print('spam')<br>\n",
    "\n",
    "#### ans:"
   ]
  },
  {
   "cell_type": "code",
   "execution_count": 7,
   "id": "aa1cc1e6",
   "metadata": {},
   "outputs": [
    {
     "name": "stdout",
     "output_type": "stream",
     "text": [
      "ham\n",
      "spam\n",
      "spam\n"
     ]
    }
   ],
   "source": [
    "spam = 0\n",
    "\n",
    "if spam == 10:  ## Block 1\n",
    "    print('eggs')\n",
    "    \n",
    "if spam > 5:    ## Block 2\n",
    "    print('bacon')\n",
    "else:           ## Block 3\n",
    "    print('ham')\n",
    "    \n",
    "print('spam')\n",
    "print('spam')"
   ]
  },
  {
   "cell_type": "markdown",
   "id": "a7f8cdfb",
   "metadata": {},
   "source": [
    "#### 8. Write code that prints Hello if 1 is stored in spam, prints Howdy if 2 is stored in spam, and prints Greetings! if anything else is stored in spam."
   ]
  },
  {
   "cell_type": "code",
   "execution_count": 8,
   "id": "4973e060",
   "metadata": {},
   "outputs": [
    {
     "name": "stdout",
     "output_type": "stream",
     "text": [
      "Hello\n"
     ]
    }
   ],
   "source": [
    "spam = 1\n",
    "\n",
    "if spam == 1:\n",
    "    print('Hello')\n",
    "elif spam == 2:\n",
    "    print('Howdy')\n",
    "else:\n",
    "    print('Greetings!')"
   ]
  },
  {
   "cell_type": "markdown",
   "id": "29b2d400",
   "metadata": {},
   "source": [
    "#### 9.If your programme is stuck in an endless loop, what keys you’ll press?\n",
    "\n",
    "#### ans:\n",
    "Press Ctrl + C on the command line.\n",
    "Restart the kernal"
   ]
  },
  {
   "cell_type": "markdown",
   "id": "007fb65a",
   "metadata": {},
   "source": [
    "##### 10. How can you tell the difference between break and continue?\n",
    "\n",
    "#### ans:\n",
    "Break: It is used to break the loop and exit from the loop<br>\n",
    "continue: It is used to skip the current iteration of the loop and continue with the next iteration."
   ]
  },
  {
   "cell_type": "markdown",
   "id": "26bee4d1",
   "metadata": {},
   "source": [
    "#### 11. In a for loop, what is the difference between range(10), range(0, 10), and range(0, 10, 1)?\n",
    "\n",
    "#### ans:\n",
    "    There is no difference"
   ]
  },
  {
   "cell_type": "code",
   "execution_count": 13,
   "id": "9349e58a",
   "metadata": {},
   "outputs": [
    {
     "name": "stdout",
     "output_type": "stream",
     "text": [
      "0\n",
      "1\n",
      "2\n",
      "3\n",
      "4\n",
      "5\n",
      "6\n",
      "7\n",
      "8\n",
      "9\n"
     ]
    }
   ],
   "source": [
    "for i in range(10):\n",
    "    print(i)"
   ]
  },
  {
   "cell_type": "code",
   "execution_count": 14,
   "id": "074d0f0f",
   "metadata": {},
   "outputs": [
    {
     "name": "stdout",
     "output_type": "stream",
     "text": [
      "0\n",
      "1\n",
      "2\n",
      "3\n",
      "4\n",
      "5\n",
      "6\n",
      "7\n",
      "8\n",
      "9\n"
     ]
    }
   ],
   "source": [
    "for i in range(0, 10):\n",
    "    print(i)"
   ]
  },
  {
   "cell_type": "code",
   "execution_count": 15,
   "id": "875739cc",
   "metadata": {},
   "outputs": [
    {
     "name": "stdout",
     "output_type": "stream",
     "text": [
      "0\n",
      "1\n",
      "2\n",
      "3\n",
      "4\n",
      "5\n",
      "6\n",
      "7\n",
      "8\n",
      "9\n"
     ]
    }
   ],
   "source": [
    "for i in range(0, 10, 1):\n",
    "    print(i)"
   ]
  },
  {
   "cell_type": "markdown",
   "id": "1c40f52a",
   "metadata": {},
   "source": [
    "#### 12. Write a short program that prints the numbers 1 to 10 using a for loop. Then write an equivalent program that prints the numbers 1 to 10 using a while loop."
   ]
  },
  {
   "cell_type": "code",
   "execution_count": 16,
   "id": "018a7e53",
   "metadata": {},
   "outputs": [
    {
     "name": "stdout",
     "output_type": "stream",
     "text": [
      "1\n",
      "2\n",
      "3\n",
      "4\n",
      "5\n",
      "6\n",
      "7\n",
      "8\n",
      "9\n",
      "10\n"
     ]
    }
   ],
   "source": [
    "## Using for loop\n",
    "\n",
    "for i in range(1, 11):\n",
    "    print(i)"
   ]
  },
  {
   "cell_type": "code",
   "execution_count": 17,
   "id": "dec9e280",
   "metadata": {},
   "outputs": [
    {
     "name": "stdout",
     "output_type": "stream",
     "text": [
      "1\n",
      "2\n",
      "3\n",
      "4\n",
      "5\n",
      "6\n",
      "7\n",
      "8\n",
      "9\n",
      "10\n"
     ]
    }
   ],
   "source": [
    "## Using while loop\n",
    "\n",
    "i = 1\n",
    "while i < 11:\n",
    "    print(i)\n",
    "    i += 1"
   ]
  },
  {
   "cell_type": "markdown",
   "id": "58dce949",
   "metadata": {},
   "source": [
    "#### 13. If you had a function named bacon() inside a module named spam, how would you call it after importing spam?\n",
    "\n",
    "#### ans:\n",
    "import spam\n",
    "spam.bacon()"
   ]
  },
  {
   "cell_type": "code",
   "execution_count": null,
   "id": "83347769",
   "metadata": {},
   "outputs": [],
   "source": []
  }
 ],
 "metadata": {
  "kernelspec": {
   "display_name": "Python 3",
   "language": "python",
   "name": "python3"
  },
  "language_info": {
   "codemirror_mode": {
    "name": "ipython",
    "version": 3
   },
   "file_extension": ".py",
   "mimetype": "text/x-python",
   "name": "python",
   "nbconvert_exporter": "python",
   "pygments_lexer": "ipython3",
   "version": "3.8.8"
  }
 },
 "nbformat": 4,
 "nbformat_minor": 5
}
