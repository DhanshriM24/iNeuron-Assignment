{
 "cells": [
  {
   "cell_type": "markdown",
   "id": "e717c717",
   "metadata": {},
   "source": [
    "## Python Basic Assingment"
   ]
  },
  {
   "cell_type": "markdown",
   "id": "64a57b8f",
   "metadata": {},
   "source": [
    "## Assingment-1"
   ]
  },
  {
   "cell_type": "markdown",
   "id": "6b8205f5",
   "metadata": {},
   "source": [
    "1. In the below elements which of them are values or an expression? eg:- values can be integer or string and expressions will be mathematical operators.\n",
    "\n",
    "ans-<br>\n",
    "     *        :-      Expression(Mathematical operators) <br>\n",
    "    'hello'   :-      Value (String) <br>\n",
    "    -87.8     :-      Value (Float) <br>\n",
    "    -         :-      Expression(Mathematical operators) <br>\n",
    "    /         :-      Expression(Mathematical operators) <br>\n",
    "    6         :-      Value (Integer) <br>"
   ]
  },
  {
   "cell_type": "markdown",
   "id": "c281d008",
   "metadata": {},
   "source": [
    "2. What is the difference between string and variable?\n",
    "\n",
    "ans-<br>\n",
    "Variable- A variable is a name given to a memory location. It is the basic unit of storage in a program.It is a container which <br>can store the data and this data can be of any data-type like int,float,string,list,etc.<br>\n",
    "     \n",
    "String- It is the datatype which is collection of characters  (such as \"dhanshri\").It can be declared either by using single or <br>double quotes."
   ]
  },
  {
   "cell_type": "markdown",
   "id": "0f3a4e33",
   "metadata": {},
   "source": [
    "3. Describe three different data types.\n",
    "\n",
    "ans-<br>\n",
    "Int - Integer value can be any length such as integers 10, 2, 29, -20, -150 etc. Python has no restriction on the length of an integer. Its value belongs to int\n",
    "    \n",
    "Dictionary- It is an unordered set of a key-value pair of items. It is like an associative array or a hash table where each key stores a specific value. Key can hold any primitive data type, whereas value is an arbitrary Python object.The items in the dictionary are separated with the comma (,) and enclosed in the curly braces {}.\n",
    "\n",
    "Set- It is the unordered collection of the data type. It is iterable, mutable(can modify after creation), and has unique elements. In set, the order of the elements is undefined; it may return the changed sequence of the element. The set is created by using a built-in function set(), or a sequence of elements is passed in the curly braces and separated by the comma. It can contain various types of values."
   ]
  },
  {
   "cell_type": "markdown",
   "id": "a95ee317",
   "metadata": {},
   "source": [
    "4. What is an expression made up of? What do all expressions do?<br>\n",
    "\n",
    "ans-<br>\n",
    "Expression is made up of values, containers, and mathematical operators (operands) \n",
    "    <br>\n",
    "e.g - a = 2 + 3     and expressions are used to evaluate the values or represent the result on the screen."
   ]
  },
  {
   "cell_type": "markdown",
   "id": "f3590e30",
   "metadata": {},
   "source": [
    "5. This assignment statements, like spam = 10. What is the difference between an expression and a statement?<br>\n",
    "\n",
    "ans-<br>\n",
    "    Expression is made up of values, containers, and mathematical operators (operands) and the statement is just like a command \n",
    "    that a python interpreter executes like print."
   ]
  },
  {
   "cell_type": "markdown",
   "id": "ead0ebc2",
   "metadata": {},
   "source": [
    "6. After running the following code, what does the variable bacon contain?<br>\n",
    "bacon = 22<br>\n",
    "bacon + 1"
   ]
  },
  {
   "cell_type": "code",
   "execution_count": 1,
   "id": "7427011b",
   "metadata": {},
   "outputs": [],
   "source": [
    "bacon = 22"
   ]
  },
  {
   "cell_type": "code",
   "execution_count": 2,
   "id": "2945da74",
   "metadata": {},
   "outputs": [
    {
     "data": {
      "text/plain": [
       "23"
      ]
     },
     "execution_count": 2,
     "metadata": {},
     "output_type": "execute_result"
    }
   ],
   "source": [
    "bacon + 1"
   ]
  },
  {
   "cell_type": "code",
   "execution_count": 3,
   "id": "d3f4cd37",
   "metadata": {},
   "outputs": [
    {
     "name": "stdout",
     "output_type": "stream",
     "text": [
      "22\n"
     ]
    }
   ],
   "source": [
    "print(bacon)"
   ]
  },
  {
   "cell_type": "markdown",
   "id": "e44e5a76",
   "metadata": {},
   "source": [
    "7. What should the values of the following two terms be?<br>\n",
    "'spam' + 'spamspam'<br>\n",
    "'spam' * 3"
   ]
  },
  {
   "cell_type": "code",
   "execution_count": 4,
   "id": "61767281",
   "metadata": {},
   "outputs": [
    {
     "data": {
      "text/plain": [
       "'spamspamspam'"
      ]
     },
     "execution_count": 4,
     "metadata": {},
     "output_type": "execute_result"
    }
   ],
   "source": [
    "'spam' + 'spamspam'"
   ]
  },
  {
   "cell_type": "code",
   "execution_count": 5,
   "id": "cff3c336",
   "metadata": {},
   "outputs": [
    {
     "data": {
      "text/plain": [
       "'spamspamspam'"
      ]
     },
     "execution_count": 5,
     "metadata": {},
     "output_type": "execute_result"
    }
   ],
   "source": [
    "'spam' * 3"
   ]
  },
  {
   "cell_type": "markdown",
   "id": "ccbed221",
   "metadata": {},
   "source": [
    "8. Why is eggs a valid variable name while 100 is invalid?<br>\n",
    "\n",
    "Ans-<br>\n",
    "    Because the variable declartion in python is that the variable name must start with a alphabate or underscore '_'<br>\n",
    "    eg : a = 100, string = \"Dhanshri\", _value = 33"
   ]
  },
  {
   "cell_type": "markdown",
   "id": "58e6c0ad",
   "metadata": {},
   "source": [
    "9. What three functions can be used to get the integer, floating-point number, or string version of a value?<br>\n",
    "\n",
    "Ans-<br>\n",
    "    Typecasting can be used to get the value<br>\n",
    "    int : int()<br>\n",
    "    float : float()<br>\n",
    "    string : str()<br>"
   ]
  },
  {
   "cell_type": "markdown",
   "id": "612a574a",
   "metadata": {},
   "source": [
    "10. Why does this expression cause an error? How can you fix it?<br>\n",
    "'I have eaten ' + 99 + ' burritos.'<br>\n",
    "\n",
    "Ans- <br>\n",
    "    The concat operation between string and int is not possbile. So it will show an error<br>\n",
    "    Fix: To fix this error we can typecast the int value using str(99)"
   ]
  },
  {
   "cell_type": "code",
   "execution_count": 6,
   "id": "20bb6890",
   "metadata": {},
   "outputs": [
    {
     "ename": "TypeError",
     "evalue": "can only concatenate str (not \"int\") to str",
     "output_type": "error",
     "traceback": [
      "\u001b[1;31m---------------------------------------------------------------------------\u001b[0m",
      "\u001b[1;31mTypeError\u001b[0m                                 Traceback (most recent call last)",
      "\u001b[1;32m<ipython-input-6-b4ce2fb8fac3>\u001b[0m in \u001b[0;36m<module>\u001b[1;34m\u001b[0m\n\u001b[0;32m      1\u001b[0m \u001b[1;31m## Error\u001b[0m\u001b[1;33m\u001b[0m\u001b[1;33m\u001b[0m\u001b[1;33m\u001b[0m\u001b[0m\n\u001b[0;32m      2\u001b[0m \u001b[1;33m\u001b[0m\u001b[0m\n\u001b[1;32m----> 3\u001b[1;33m \u001b[1;34m'I have eaten '\u001b[0m \u001b[1;33m+\u001b[0m \u001b[1;36m99\u001b[0m \u001b[1;33m+\u001b[0m \u001b[1;34m' burritos.'\u001b[0m\u001b[1;33m\u001b[0m\u001b[1;33m\u001b[0m\u001b[0m\n\u001b[0m",
      "\u001b[1;31mTypeError\u001b[0m: can only concatenate str (not \"int\") to str"
     ]
    }
   ],
   "source": [
    "## Error\n",
    "\n",
    "'I have eaten ' + 99 + ' burritos.'"
   ]
  },
  {
   "cell_type": "code",
   "execution_count": 7,
   "id": "a9f695cc",
   "metadata": {},
   "outputs": [
    {
     "data": {
      "text/plain": [
       "'I have eaten 99 burritos.'"
      ]
     },
     "execution_count": 7,
     "metadata": {},
     "output_type": "execute_result"
    }
   ],
   "source": [
    "## Fix\n",
    "\n",
    "'I have eaten ' + str(99) + ' burritos.'"
   ]
  },
  {
   "cell_type": "code",
   "execution_count": null,
   "id": "9a64fe86",
   "metadata": {},
   "outputs": [],
   "source": []
  }
 ],
 "metadata": {
  "kernelspec": {
   "display_name": "Python 3",
   "language": "python",
   "name": "python3"
  },
  "language_info": {
   "codemirror_mode": {
    "name": "ipython",
    "version": 3
   },
   "file_extension": ".py",
   "mimetype": "text/x-python",
   "name": "python",
   "nbconvert_exporter": "python",
   "pygments_lexer": "ipython3",
   "version": "3.8.8"
  }
 },
 "nbformat": 4,
 "nbformat_minor": 5
}
