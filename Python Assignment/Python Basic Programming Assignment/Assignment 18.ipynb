{
 "cells": [
  {
   "cell_type": "markdown",
   "id": "b947a75d",
   "metadata": {},
   "source": [
    "## Python Basic Programming Assignment 18\n",
    "-------------"
   ]
  },
  {
   "cell_type": "markdown",
   "id": "b8b81bb3",
   "metadata": {},
   "source": [
    "### 1. Create a function that takes a list of non-negative integers and strings and return a new list without the strings."
   ]
  },
  {
   "cell_type": "code",
   "execution_count": 9,
   "id": "6d38fd2a",
   "metadata": {},
   "outputs": [
    {
     "name": "stdout",
     "output_type": "stream",
     "text": [
      "[1, 2]\n",
      "[1, 0, 15]\n",
      "[1, 2, 123]\n"
     ]
    }
   ],
   "source": [
    "def filter_list(lst):\n",
    "    return [i for i in lst if type(i) is not str]\n",
    "\n",
    "print(filter_list([1, 2, 'a', 'b']))\n",
    "print(filter_list([1, 'a', 'b', 0, 15]))\n",
    "print(filter_list([1, 2, 'aasf', '1', '123', 123]))"
   ]
  },
  {
   "cell_type": "markdown",
   "id": "464a99c1",
   "metadata": {},
   "source": [
    "### 2. The \"Reverser\" takes a string as input and returns that string in reverse order, with the opposite case."
   ]
  },
  {
   "cell_type": "code",
   "execution_count": 10,
   "id": "dc5aceb6",
   "metadata": {},
   "outputs": [
    {
     "name": "stdout",
     "output_type": "stream",
     "text": [
      "DLROw OLLEh\n",
      "eSrEvEr\n",
      "RADAr\n"
     ]
    }
   ],
   "source": [
    "def Reverser(string):\n",
    "    return string[::-1].swapcase()\n",
    "\n",
    "print(Reverser('Hello World'))\n",
    "print(Reverser('ReVeRsE'))\n",
    "print(Reverser('Radar'))"
   ]
  },
  {
   "cell_type": "markdown",
   "id": "9160dca7",
   "metadata": {},
   "source": [
    "### 3. You can assign variables from lists like this:"
   ]
  },
  {
   "cell_type": "code",
   "execution_count": 11,
   "id": "1a438548",
   "metadata": {},
   "outputs": [
    {
     "name": "stdout",
     "output_type": "stream",
     "text": [
      "1\n",
      "[2, 3, 4, 5]\n",
      "6\n"
     ]
    }
   ],
   "source": [
    "lst = [1, 2, 3, 4, 5, 6]\n",
    "first = lst[0]\n",
    "middle = lst[1:-1]\n",
    "last = lst[-1]\n",
    "\n",
    "print(first)\n",
    "print(middle)\n",
    "print(last)"
   ]
  },
  {
   "cell_type": "markdown",
   "id": "e6e242ab",
   "metadata": {},
   "source": [
    "### 4. Write a function that calculates the factorial of a number recursively."
   ]
  },
  {
   "cell_type": "code",
   "execution_count": 12,
   "id": "e843d43f",
   "metadata": {},
   "outputs": [],
   "source": [
    "def factorial(num):\n",
    "    if num <= 1:\n",
    "        return 1\n",
    "    else:\n",
    "        return num * factorial(num-1)"
   ]
  },
  {
   "cell_type": "code",
   "execution_count": 13,
   "id": "b7d27a92",
   "metadata": {},
   "outputs": [
    {
     "name": "stdout",
     "output_type": "stream",
     "text": [
      "120\n",
      "6\n",
      "1\n",
      "1\n"
     ]
    }
   ],
   "source": [
    "print(factorial(5))\n",
    "print(factorial(3))\n",
    "print(factorial(1))\n",
    "print(factorial(0))"
   ]
  },
  {
   "cell_type": "markdown",
   "id": "6272ed73",
   "metadata": {},
   "source": [
    "### 5. Write a function that moves all elements of one type to the end of the list."
   ]
  },
  {
   "cell_type": "code",
   "execution_count": 14,
   "id": "b6c3fb31",
   "metadata": {},
   "outputs": [],
   "source": [
    "def move_to_end(lst: list, element):\n",
    "    \n",
    "    final_lst = []\n",
    "    \n",
    "    for i in lst:\n",
    "        if i == element:\n",
    "            final_lst.insert(0, i)\n",
    "        else:\n",
    "            final_lst.append(i)\n",
    "    \n",
    "    for i in range(len(final_lst)):\n",
    "        temp = final_lst[i]\n",
    "        if temp == element:\n",
    "            final_lst.remove(temp)\n",
    "            final_lst.append(temp)\n",
    "            \n",
    "    return final_lst"
   ]
  },
  {
   "cell_type": "code",
   "execution_count": 15,
   "id": "e3f4d7cc",
   "metadata": {},
   "outputs": [
    {
     "data": {
      "text/plain": [
       "[3, 2, 4, 4, 1, 1]"
      ]
     },
     "execution_count": 15,
     "metadata": {},
     "output_type": "execute_result"
    }
   ],
   "source": [
    "move_to_end([1, 3, 2, 4, 4, 1], 1)"
   ]
  },
  {
   "cell_type": "code",
   "execution_count": 16,
   "id": "80be5e17",
   "metadata": {},
   "outputs": [
    {
     "data": {
      "text/plain": [
       "[7, 8, 1, 2, 3, 4, 9]"
      ]
     },
     "execution_count": 16,
     "metadata": {},
     "output_type": "execute_result"
    }
   ],
   "source": [
    "move_to_end([7, 8, 9, 1, 2, 3, 4], 9)"
   ]
  },
  {
   "cell_type": "code",
   "execution_count": 17,
   "id": "7bca0de2",
   "metadata": {},
   "outputs": [
    {
     "data": {
      "text/plain": [
       "['b', 'a', 'a', 'a']"
      ]
     },
     "execution_count": 17,
     "metadata": {},
     "output_type": "execute_result"
    }
   ],
   "source": [
    "move_to_end([\"a\", \"a\", \"a\", \"b\"], \"a\")"
   ]
  },
  {
   "cell_type": "code",
   "execution_count": null,
   "id": "a9658f48",
   "metadata": {},
   "outputs": [],
   "source": []
  }
 ],
 "metadata": {
  "kernelspec": {
   "display_name": "Python 3",
   "language": "python",
   "name": "python3"
  },
  "language_info": {
   "codemirror_mode": {
    "name": "ipython",
    "version": 3
   },
   "file_extension": ".py",
   "mimetype": "text/x-python",
   "name": "python",
   "nbconvert_exporter": "python",
   "pygments_lexer": "ipython3",
   "version": "3.8.8"
  }
 },
 "nbformat": 4,
 "nbformat_minor": 5
}
