{
 "cells": [
  {
   "cell_type": "markdown",
   "id": "13e1203c",
   "metadata": {},
   "source": [
    "# Python Basic Programming Assignment 8"
   ]
  },
  {
   "cell_type": "markdown",
   "id": "c7193b8f",
   "metadata": {},
   "source": [
    "-------------\n",
    "### 1. Write a Python Program to Add Two Matrices?"
   ]
  },
  {
   "cell_type": "code",
   "execution_count": 17,
   "id": "c2fcb7ab",
   "metadata": {},
   "outputs": [],
   "source": [
    "def add(a,b):\n",
    "    print(f'Inputs: {a},{b}')\n",
    "    if len(a) == len(b):\n",
    "        output = []\n",
    "        for i in range(len(a)):\n",
    "            if len(a[i]) == len(b[i]):\n",
    "                output.append([])\n",
    "                for j in range(len(a[i])):\n",
    "                    output[i].append(a[i][j]+b[i][j])\n",
    "            else:\n",
    "                print('Enter same no of rows and columns') \n",
    "    else:\n",
    "        print('Enter same no of rows and columns')\n",
    "    print(f'Output: {output}')"
   ]
  },
  {
   "cell_type": "code",
   "execution_count": 16,
   "id": "3a6c1c78",
   "metadata": {},
   "outputs": [
    {
     "name": "stdout",
     "output_type": "stream",
     "text": [
      "Inputs: [[21, 3, 2], [4, 3, 5], [2, 9, 6]],[[1, 3, 5], [1, 5, 3], [3, 8, 1]]\n",
      "Output: [[22, 6, 7], [5, 8, 8], [5, 17, 7]]\n"
     ]
    }
   ],
   "source": [
    "\n",
    "add([[21,3,2],[4,3,5],[2,9,6]],\n",
    "    [[1,3,5],[1,5,3],[3,8,1]])"
   ]
  },
  {
   "cell_type": "markdown",
   "id": "c2888ee3",
   "metadata": {},
   "source": [
    "### 2. Write a Python Program to Multiply Two Matrices?"
   ]
  },
  {
   "cell_type": "code",
   "execution_count": 27,
   "id": "b1c74f7c",
   "metadata": {},
   "outputs": [
    {
     "name": "stdout",
     "output_type": "stream",
     "text": [
      "[58, 42, 23, 4]\n",
      "[126, 92, 53, 8]\n",
      "[83, 70, 25, 14]\n"
     ]
    }
   ],
   "source": [
    "# Take 3x3 matrix\n",
    "A = [[2, 6, 3],\n",
    "    [4, 15, 4],\n",
    "    [7, 4, 6]]\n",
    "\n",
    "B = [[5, 6, 1, 2],\n",
    "    [6, 4, 3, 0],\n",
    "    [4, 2, 1, 0]]\n",
    "\n",
    "output = [[0, 0, 0, 0],\n",
    "        [0, 0, 0, 0],\n",
    "        [0, 0, 0, 0]]\n",
    "\n",
    "for i in range(len(A)):\n",
    "    for j in range(len(B[0])):\n",
    "        for k in range(len(B)):\n",
    "            output[i][j] += A[i][k] * B[k][j]\n",
    "\n",
    "for r in output:\n",
    "    print(r)"
   ]
  },
  {
   "cell_type": "markdown",
   "id": "54cd7728",
   "metadata": {},
   "source": [
    "### 3. Write a Python Program to Transpose a Matrix?"
   ]
  },
  {
   "cell_type": "code",
   "execution_count": 32,
   "id": "89302965",
   "metadata": {},
   "outputs": [
    {
     "name": "stdout",
     "output_type": "stream",
     "text": [
      "[1, 4, 3]\n",
      "[3, 8, 7]\n"
     ]
    }
   ],
   "source": [
    "X = [[1,3],\n",
    "    [4 ,8],\n",
    "    [3 ,7]]\n",
    "\n",
    "output = [[0,0,0],\n",
    "         [0,0,0]]\n",
    "\n",
    "for i in range(len(X)):\n",
    "    for j in range(len(X[0])):\n",
    "        output[j][i] = X[i][j]\n",
    "\n",
    "for r in output:\n",
    "    print(r)\n"
   ]
  },
  {
   "cell_type": "markdown",
   "id": "96dba5fe",
   "metadata": {},
   "source": [
    "### 4. Write a Python Program to Sort Words in Alphabetic Order?"
   ]
  },
  {
   "cell_type": "code",
   "execution_count": 18,
   "id": "416a9475",
   "metadata": {},
   "outputs": [
    {
     "name": "stdout",
     "output_type": "stream",
     "text": [
      "Sorted order of words:\n",
      "abc cafe good hello morning our to welcome "
     ]
    }
   ],
   "source": [
    "s='hello good morning welcome to our abc cafe'\n",
    "word=s.lower().split()\n",
    "word.sort()\n",
    "print(\"Sorted order of words:\")\n",
    "for word in word:\n",
    "    print(word, end = ' ')"
   ]
  },
  {
   "cell_type": "markdown",
   "id": "d8d29be7",
   "metadata": {},
   "source": [
    "### 5. Write a Python Program to Remove Punctuation From a String?"
   ]
  },
  {
   "cell_type": "code",
   "execution_count": 19,
   "id": "a8629eb3",
   "metadata": {},
   "outputs": [
    {
     "name": "stdout",
     "output_type": "stream",
     "text": [
      "Enter the string: hello[[[ how,.; are ']@$% you %^&*guys!!!!!!!!!!!!!!!!!!!!!\n",
      "hello how are  you guys\n"
     ]
    }
   ],
   "source": [
    "punctuations = '''!()-[]{};:'\"\\,<>./?@#$%^&*_~'''\n",
    "\n",
    "string = input(\"Enter the string: \")\n",
    "\n",
    "no_punc = \"\"\n",
    "\n",
    "for ch in string:\n",
    "    if ch not in punctuations:\n",
    "        no_punc = no_punc+ch\n",
    "        \n",
    "print(no_punc)"
   ]
  },
  {
   "cell_type": "code",
   "execution_count": null,
   "id": "b7728e61",
   "metadata": {},
   "outputs": [],
   "source": []
  }
 ],
 "metadata": {
  "kernelspec": {
   "display_name": "Python 3",
   "language": "python",
   "name": "python3"
  },
  "language_info": {
   "codemirror_mode": {
    "name": "ipython",
    "version": 3
   },
   "file_extension": ".py",
   "mimetype": "text/x-python",
   "name": "python",
   "nbconvert_exporter": "python",
   "pygments_lexer": "ipython3",
   "version": "3.8.8"
  }
 },
 "nbformat": 4,
 "nbformat_minor": 5
}
