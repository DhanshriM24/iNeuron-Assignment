{
 "cells": [
  {
   "cell_type": "markdown",
   "id": "d9ce8134",
   "metadata": {},
   "source": [
    "## Programming Basic Assignment 7"
   ]
  },
  {
   "cell_type": "markdown",
   "id": "a63a9161",
   "metadata": {},
   "source": [
    "------------------\n",
    "### 1. Write a Python Program to find sum of array?"
   ]
  },
  {
   "cell_type": "code",
   "execution_count": 9,
   "id": "3979d637",
   "metadata": {},
   "outputs": [
    {
     "name": "stdout",
     "output_type": "stream",
     "text": [
      "Enter the Array: [3, 5, 67, 4, 2, 6, 7]\n",
      "The sum of [3, 5, 67, 4, 2, 6, 7] is 94\n"
     ]
    }
   ],
   "source": [
    "def sumArray():\n",
    "    arr = eval(input(\"Enter the Array: \"))\n",
    "    print(f'The sum of {arr} is {sum(arr)}')\n",
    "\n",
    "sumArray()"
   ]
  },
  {
   "cell_type": "markdown",
   "id": "4b710072",
   "metadata": {},
   "source": [
    "### 2. Write a Python Program to find largest element in an array?"
   ]
  },
  {
   "cell_type": "code",
   "execution_count": 10,
   "id": "eb68e6b2",
   "metadata": {},
   "outputs": [
    {
     "name": "stdout",
     "output_type": "stream",
     "text": [
      "67\n"
     ]
    }
   ],
   "source": [
    "arr=[3, 5, 67, 4, 2, 6, 7]\n",
    "\n",
    "maxi=arr[0]\n",
    "for i in range(len(arr)):\n",
    "    if arr[i]>maxi:\n",
    "        maxi=arr[i]\n",
    "print(maxi)"
   ]
  },
  {
   "cell_type": "markdown",
   "id": "938ebe40",
   "metadata": {},
   "source": [
    "### 3. Write a Python Program for array rotation?"
   ]
  },
  {
   "cell_type": "code",
   "execution_count": 13,
   "id": "e804bfa9",
   "metadata": {},
   "outputs": [
    {
     "name": "stdout",
     "output_type": "stream",
     "text": [
      "Rotation of array\n",
      "[7, 6, 2, 4, 67, 5, 3]\n"
     ]
    }
   ],
   "source": [
    "arr=[3, 5, 67, 4, 2, 6, 7]\n",
    "print(\"Rotation of array\")\n",
    "print(arr[::-1])"
   ]
  },
  {
   "cell_type": "markdown",
   "id": "7eab86e0",
   "metadata": {},
   "source": [
    "### 4. Write a Python Program to Split the array and add the first part to the end?"
   ]
  },
  {
   "cell_type": "code",
   "execution_count": 4,
   "id": "9948964e",
   "metadata": {},
   "outputs": [
    {
     "name": "stdout",
     "output_type": "stream",
     "text": [
      "34 56 78 90 1 12 "
     ]
    }
   ],
   "source": [
    "def splitarray(arr,n,k):\n",
    "    for i in range(0,k):\n",
    "        x=arr[0]\n",
    "        for j in range(0,n-1):\n",
    "            arr[j]=arr[j+1]\n",
    "        arr[n-1]=x\n",
    "        \n",
    "arr=[1,12,34,56,78,90]\n",
    "\n",
    "n=len(arr)\n",
    "position=2\n",
    "splitarray(arr,n,position)\n",
    "\n",
    "for i in range(0,n):\n",
    "    print(arr[i],end=\" \")"
   ]
  },
  {
   "cell_type": "markdown",
   "id": "f7e37de7",
   "metadata": {},
   "source": [
    "### 5. Write a Python Program to check if given array is Monotonic?"
   ]
  },
  {
   "cell_type": "code",
   "execution_count": 10,
   "id": "f9c24f62",
   "metadata": {},
   "outputs": [],
   "source": [
    "def mono(array):\n",
    "    decreasing = False\n",
    "    if(array[0]>array[1]):\n",
    "        decreasing = True\n",
    "    for i in range(len(array)-1):\n",
    "        if(array[i]<array[i+1] and decreasing or array[i]>array[i+1] and not decreasing):\n",
    "            return False\n",
    "    return True"
   ]
  },
  {
   "cell_type": "code",
   "execution_count": 11,
   "id": "f8a234ff",
   "metadata": {},
   "outputs": [
    {
     "data": {
      "text/plain": [
       "True"
      ]
     },
     "execution_count": 11,
     "metadata": {},
     "output_type": "execute_result"
    }
   ],
   "source": [
    "mono([1,2,3,4,5,6,8,9])"
   ]
  },
  {
   "cell_type": "code",
   "execution_count": 12,
   "id": "80ec23b4",
   "metadata": {},
   "outputs": [
    {
     "data": {
      "text/plain": [
       "False"
      ]
     },
     "execution_count": 12,
     "metadata": {},
     "output_type": "execute_result"
    }
   ],
   "source": [
    "mono([4,4,2,6,2,7,2,6,9,9,1])"
   ]
  },
  {
   "cell_type": "code",
   "execution_count": null,
   "id": "e287f2fc",
   "metadata": {},
   "outputs": [],
   "source": []
  }
 ],
 "metadata": {
  "kernelspec": {
   "display_name": "Python 3",
   "language": "python",
   "name": "python3"
  },
  "language_info": {
   "codemirror_mode": {
    "name": "ipython",
    "version": 3
   },
   "file_extension": ".py",
   "mimetype": "text/x-python",
   "name": "python",
   "nbconvert_exporter": "python",
   "pygments_lexer": "ipython3",
   "version": "3.8.8"
  }
 },
 "nbformat": 4,
 "nbformat_minor": 5
}
