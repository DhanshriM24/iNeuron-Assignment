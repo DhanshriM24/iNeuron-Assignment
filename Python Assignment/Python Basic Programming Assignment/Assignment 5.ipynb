{
 "cells": [
  {
   "cell_type": "markdown",
   "id": "6e56713d",
   "metadata": {},
   "source": [
    "## Python Basic Programming Assignment - 5\n",
    "--------------\n"
   ]
  },
  {
   "cell_type": "markdown",
   "id": "11f59568",
   "metadata": {},
   "source": [
    "### 1. Write a Python Program to Find LCM?"
   ]
  },
  {
   "cell_type": "code",
   "execution_count": 7,
   "id": "5158f79c",
   "metadata": {},
   "outputs": [
    {
     "name": "stdout",
     "output_type": "stream",
     "text": [
      "Enter 1st num\n",
      "86\n",
      "Enter 2nd num\n",
      "43\n",
      "LCM of 86 and 43 is 86\n"
     ]
    }
   ],
   "source": [
    "a=int(input(\"Enter 1st num\\n\"))\n",
    "b=int(input(\"Enter 2nd num\\n\"))\n",
    "\n",
    "maxnum=max(a,b)\n",
    "while(True):\n",
    "    if(maxnum%a==0 and maxnum%b==0):\n",
    "        break\n",
    "    maxnum=maxnum+1\n",
    "    \n",
    "print(f\"LCM of {a} and {b} is {maxnum}\")"
   ]
  },
  {
   "cell_type": "markdown",
   "id": "32f482af",
   "metadata": {},
   "source": [
    "### 2. Write a Python Program to Find HCF?"
   ]
  },
  {
   "cell_type": "code",
   "execution_count": 11,
   "id": "6df61a68",
   "metadata": {},
   "outputs": [
    {
     "name": "stdout",
     "output_type": "stream",
     "text": [
      "Enter 1st num\n",
      "24\n",
      "Enter 2nd num\n",
      "60\n",
      "HCF is  12\n"
     ]
    }
   ],
   "source": [
    "num1=int(input(\"Enter 1st num\\n\"))\n",
    "num2=int(input(\"Enter 2nd num\\n\"))\n",
    "\n",
    "if num2>num1:\n",
    "    mn=num1\n",
    "else:\n",
    "    mn=num2\n",
    "    \n",
    "for i in range(1,mn+1):\n",
    "    if num1%i==0 and num2%i==0:\n",
    "        hcf=i\n",
    "        \n",
    "print(\"HCF is \",hcf)"
   ]
  },
  {
   "cell_type": "markdown",
   "id": "74195931",
   "metadata": {},
   "source": [
    "### 3. Write a Python Program to Convert Decimal to Binary, Octal and Hexadecimal?"
   ]
  },
  {
   "cell_type": "code",
   "execution_count": 12,
   "id": "0f90a37a",
   "metadata": {},
   "outputs": [],
   "source": [
    "def conversion(num):\n",
    "    print(\"Binary:      \", bin(num))\n",
    "    print(\"Octal:       \", oct(num))\n",
    "    print(\"Hexadecimal: \", hex(num))"
   ]
  },
  {
   "cell_type": "code",
   "execution_count": 15,
   "id": "a95b339e",
   "metadata": {},
   "outputs": [
    {
     "name": "stdout",
     "output_type": "stream",
     "text": [
      "Binary:       0b110\n",
      "Octal:        0o6\n",
      "Hexadecimal:  0x6\n"
     ]
    }
   ],
   "source": [
    "conversion(6)"
   ]
  },
  {
   "cell_type": "code",
   "execution_count": 14,
   "id": "e139c9d7",
   "metadata": {},
   "outputs": [
    {
     "name": "stdout",
     "output_type": "stream",
     "text": [
      "Binary:       0b11101111\n",
      "Octal:        0o357\n",
      "Hexadecimal:  0xef\n"
     ]
    }
   ],
   "source": [
    "conversion(239)"
   ]
  },
  {
   "cell_type": "markdown",
   "id": "a5800a9f",
   "metadata": {},
   "source": [
    "### 4. Write a Python Program To Find ASCII value of a character?"
   ]
  },
  {
   "cell_type": "code",
   "execution_count": 16,
   "id": "d5fa1fb7",
   "metadata": {},
   "outputs": [
    {
     "name": "stdout",
     "output_type": "stream",
     "text": [
      "Enter a character: c\n",
      "ASCII value of c is 99\n"
     ]
    }
   ],
   "source": [
    "try:\n",
    "    char = input(\"Enter a character: \")\n",
    "    ASCII = ord(char)\n",
    "    print(\"ASCII value of {} is {}\".format(char, ASCII))\n",
    "except Exception as e:\n",
    "    print(e)"
   ]
  },
  {
   "cell_type": "markdown",
   "id": "fa12a282",
   "metadata": {},
   "source": [
    "### 5. Write a Python Program to Make a Simple Calculator with 4 basic mathematical operations?"
   ]
  },
  {
   "cell_type": "code",
   "execution_count": 12,
   "id": "0aad7b03",
   "metadata": {},
   "outputs": [
    {
     "name": "stdout",
     "output_type": "stream",
     "text": [
      "Enter first number: 6\n",
      "Enter second number: 7\n",
      "\n",
      "For addition:       +\n",
      "For subtraction:    -\n",
      "For multiplicaton:  *\n",
      "For division:       /\n",
      "For Exit:            X\n",
      "\n",
      "Enter the mathematical operations: *\n",
      "output 42\n"
     ]
    }
   ],
   "source": [
    "        num1 = int(input(\"Enter first number: \"))\n",
    "        num2 = int(input(\"Enter second number: \"))\n",
    "        \n",
    "        print(\"\\nFor addition:       +\")\n",
    "        print(\"For subtraction:    -\")\n",
    "        print(\"For multiplicaton:  *\")\n",
    "        print(\"For division:       /\")\n",
    "        print(\"For Exit:            X\")\n",
    "        \n",
    "        Operation = input(\"\\nEnter the mathematical operations: \")\n",
    "        \n",
    "        \n",
    "        if Operation == '+':\n",
    "            output = num1 + num2\n",
    "            print(\"output\",output)\n",
    "        elif Operation == '-':\n",
    "            output = num1 - num2\n",
    "            print(\"output\",output)\n",
    "        elif Operation == '*':\n",
    "            output = num1 * num2\n",
    "            print(\"output\",output)\n",
    "        elif Operation == '/':\n",
    "            output = num1 / num2\n",
    "            print(\"output\",output)\n",
    "        else:\n",
    "            print(\"Invalid option\")\n",
    "            \n",
    "       "
   ]
  },
  {
   "cell_type": "code",
   "execution_count": null,
   "id": "752c6278",
   "metadata": {},
   "outputs": [],
   "source": []
  }
 ],
 "metadata": {
  "kernelspec": {
   "display_name": "Python 3",
   "language": "python",
   "name": "python3"
  },
  "language_info": {
   "codemirror_mode": {
    "name": "ipython",
    "version": 3
   },
   "file_extension": ".py",
   "mimetype": "text/x-python",
   "name": "python",
   "nbconvert_exporter": "python",
   "pygments_lexer": "ipython3",
   "version": "3.8.8"
  }
 },
 "nbformat": 4,
 "nbformat_minor": 5
}
