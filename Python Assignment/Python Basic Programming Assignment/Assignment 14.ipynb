{
 "cells": [
  {
   "cell_type": "markdown",
   "id": "a8324c89",
   "metadata": {},
   "source": [
    "## Python Basic Programming Assignment - 14\n",
    "---------------------"
   ]
  },
  {
   "cell_type": "markdown",
   "id": "fe3f66e9",
   "metadata": {},
   "source": [
    "### 1. Define a class with a generator which can iterate the numbers, which are divisible by 7, between a given range 0 and n."
   ]
  },
  {
   "cell_type": "code",
   "execution_count": 1,
   "id": "83bfa83c",
   "metadata": {},
   "outputs": [],
   "source": [
    "class test:\n",
    "    def gen(self, n):\n",
    "        for i in range(n+1):\n",
    "            if i%7 == 0:\n",
    "                yield i"
   ]
  },
  {
   "cell_type": "code",
   "execution_count": 2,
   "id": "8fe27aad",
   "metadata": {},
   "outputs": [
    {
     "data": {
      "text/plain": [
       "[0, 7, 14, 21, 28, 35, 42, 49, 56, 63, 70, 77, 84, 91, 98]"
      ]
     },
     "execution_count": 2,
     "metadata": {},
     "output_type": "execute_result"
    }
   ],
   "source": [
    "n= test()\n",
    "[i for i in n.gen(100)]"
   ]
  },
  {
   "cell_type": "markdown",
   "id": "405f864e",
   "metadata": {},
   "source": [
    "### 2. Write a program to compute the frequency of the words from the input. The output should output after sorting the key alphanumerically."
   ]
  },
  {
   "cell_type": "code",
   "execution_count": 1,
   "id": "2e2c026b",
   "metadata": {},
   "outputs": [],
   "source": [
    "def test2(string: str):\n",
    "    \n",
    "    list1 = string.split(' ')\n",
    "    output = {}\n",
    "    \n",
    "    for i in list1:\n",
    "        if i in output.keys():\n",
    "            output[i] += 1\n",
    "        else:\n",
    "            output[i] = 1\n",
    "            \n",
    "    for k, v in sorted(output.items()):\n",
    "        print(k, ':', v)"
   ]
  },
  {
   "cell_type": "code",
   "execution_count": 3,
   "id": "5165c12b",
   "metadata": {},
   "outputs": [
    {
     "name": "stdout",
     "output_type": "stream",
     "text": [
      "2 : 2\n",
      "3. : 1\n",
      "3? : 1\n",
      "New : 1\n",
      "Python : 5\n",
      "Read : 1\n",
      "and : 1\n",
      "between : 1\n",
      "choosing : 1\n",
      "or : 2\n",
      "to : 1\n"
     ]
    }
   ],
   "source": [
    "test2('New to Python or choosing between Python 2 and Python 3? Read Python 2 or Python 3.')"
   ]
  },
  {
   "cell_type": "markdown",
   "id": "5b437a67",
   "metadata": {},
   "source": [
    "### 3. Define a class Person and its two child classes: Male and Female. All classes have a method \"getGender\" which can print \"Male\" for Male class and \"Female\" for Female class."
   ]
  },
  {
   "cell_type": "code",
   "execution_count": 9,
   "id": "67ab0f8d",
   "metadata": {},
   "outputs": [],
   "source": [
    "class Person:\n",
    "    def getGender(self):\n",
    "        pass\n",
    "    \n",
    "class Male(Person):\n",
    "    def getGender(self):\n",
    "        print('Male')\n",
    "        \n",
    "class Female(Person):\n",
    "    def getGender(self):\n",
    "        print('Female')"
   ]
  },
  {
   "cell_type": "code",
   "execution_count": 10,
   "id": "7dda39bd",
   "metadata": {},
   "outputs": [
    {
     "name": "stdout",
     "output_type": "stream",
     "text": [
      "Male\n",
      "Female\n"
     ]
    }
   ],
   "source": [
    "male = Male()\n",
    "female= Female()\n",
    "male.getGender()\n",
    "female.getGender()"
   ]
  },
  {
   "cell_type": "markdown",
   "id": "cde45464",
   "metadata": {},
   "source": [
    "### 4. Please write a program to generate all sentences where subject is in [\"I\", \"You\"] and verb is in ['Play', \"Love\"] and the object is in [\"Hockey\",\"Football\"]."
   ]
  },
  {
   "cell_type": "code",
   "execution_count": 11,
   "id": "7fcfb01c",
   "metadata": {},
   "outputs": [
    {
     "name": "stdout",
     "output_type": "stream",
     "text": [
      "I Play Hockey\n",
      "I Play Football\n",
      "I Love Hockey\n",
      "I Love Football\n",
      "You Play Hockey\n",
      "You Play Football\n",
      "You Love Hockey\n",
      "You Love Football\n"
     ]
    }
   ],
   "source": [
    "subject=[\"I\", \"You\"]\n",
    "verb=[\"Play\", \"Love\"]\n",
    "obj=[\"Hockey\",\"Football\"]\n",
    "\n",
    "sentence_list = []\n",
    "\n",
    "for i in subject:\n",
    "    for j in verb:\n",
    "        for k in obj:\n",
    "            sentence_list.append(i + \" \" + j + \" \" + k)\n",
    "            \n",
    "for sentence in sentence_list:\n",
    "    print(sentence)"
   ]
  },
  {
   "cell_type": "markdown",
   "id": "9501045e",
   "metadata": {},
   "source": [
    "### 5. Please write a program to compress and decompress the string \"hello world!hello world!hello world!hello world!\""
   ]
  },
  {
   "cell_type": "code",
   "execution_count": 4,
   "id": "6cd7438f",
   "metadata": {},
   "outputs": [],
   "source": [
    "import zlib"
   ]
  },
  {
   "cell_type": "code",
   "execution_count": 6,
   "id": "ecb56c65",
   "metadata": {},
   "outputs": [
    {
     "name": "stdout",
     "output_type": "stream",
     "text": [
      "Compressed string is: b'x\\x9c\\xcbH\\xcd\\xc9\\xc9W(\\xcf/\\xcaIQ\\xcc \\x82\\r\\x00\\xbd[\\x11\\xf5'\n",
      "Decompressed string is: b'hello world!hello world!hello world!hello world!'\n"
     ]
    }
   ],
   "source": [
    "\n",
    "string = 'hello world!hello world!hello world!hello world!'\n",
    "\n",
    "compress_string = zlib.compress(bytes(string, 'utf-8'))\n",
    "\n",
    "print(f\"Compressed string is: {compress_string}\")\n",
    "print(f\"Decompressed string is: {zlib.decompress(compress_string)}\")"
   ]
  },
  {
   "cell_type": "markdown",
   "id": "c998aedc",
   "metadata": {},
   "source": [
    "\n",
    "### 6. Please write a binary search function which searches an item in a sorted list. The function should return the index of element to be searched in the list."
   ]
  },
  {
   "cell_type": "code",
   "execution_count": 7,
   "id": "998e1ddf",
   "metadata": {},
   "outputs": [],
   "source": [
    "def binarySearch(list1, n):  \n",
    "    \n",
    "    \n",
    "    low = 0  \n",
    "    high = len(list1) - 1  \n",
    "    mid = 0  \n",
    "  \n",
    "    while low <= high:  \n",
    "        mid = (high + low) // 2  \n",
    "        if list1[mid] < n:  \n",
    "            low = mid + 1  \n",
    "        elif list1[mid] > n:  \n",
    "            high = mid - 1  \n",
    "        else:  \n",
    "            return mid  \n",
    "    return -1"
   ]
  },
  {
   "cell_type": "code",
   "execution_count": 11,
   "id": "e2078834",
   "metadata": {},
   "outputs": [
    {
     "data": {
      "text/plain": [
       "4"
      ]
     },
     "execution_count": 11,
     "metadata": {},
     "output_type": "execute_result"
    }
   ],
   "source": [
    "sorted_list = [1, 4, 5, 12, 54, 678, 1235]\n",
    "\n",
    "binarySearch(sorted_list, 54)"
   ]
  },
  {
   "cell_type": "code",
   "execution_count": null,
   "id": "690e42c6",
   "metadata": {},
   "outputs": [],
   "source": []
  }
 ],
 "metadata": {
  "kernelspec": {
   "display_name": "Python 3",
   "language": "python",
   "name": "python3"
  },
  "language_info": {
   "codemirror_mode": {
    "name": "ipython",
    "version": 3
   },
   "file_extension": ".py",
   "mimetype": "text/x-python",
   "name": "python",
   "nbconvert_exporter": "python",
   "pygments_lexer": "ipython3",
   "version": "3.8.8"
  }
 },
 "nbformat": 4,
 "nbformat_minor": 5
}
