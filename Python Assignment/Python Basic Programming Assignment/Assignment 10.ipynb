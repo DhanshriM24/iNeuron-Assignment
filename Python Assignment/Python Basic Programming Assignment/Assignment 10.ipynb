{
 "cells": [
  {
   "cell_type": "markdown",
   "id": "883f4082",
   "metadata": {},
   "source": [
    "## Python Basic Programming Assignment 10\n",
    "-----------------------------------------------------------------"
   ]
  },
  {
   "cell_type": "markdown",
   "id": "51dce5e0",
   "metadata": {},
   "source": [
    "### 1. Write a Python program to find sum of elements in list?"
   ]
  },
  {
   "cell_type": "code",
   "execution_count": 2,
   "id": "7e3fe0b4",
   "metadata": {},
   "outputs": [
    {
     "name": "stdout",
     "output_type": "stream",
     "text": [
      "148\n"
     ]
    }
   ],
   "source": [
    "l = [4,7,8,45,60,23,1]\n",
    "\n",
    "sum = 0\n",
    "for i in l:\n",
    "    sum = sum+i\n",
    "    \n",
    "print(sum)"
   ]
  },
  {
   "cell_type": "markdown",
   "id": "31fcd03a",
   "metadata": {},
   "source": [
    "### 2. Write a Python program to  Multiply all numbers in the list?"
   ]
  },
  {
   "cell_type": "code",
   "execution_count": 4,
   "id": "7cb95b8e",
   "metadata": {},
   "outputs": [
    {
     "name": "stdout",
     "output_type": "stream",
     "text": [
      "13910400\n"
     ]
    }
   ],
   "source": [
    "l = [4,7,8,45,60,23,1]\n",
    "\n",
    "multi = 1\n",
    "for i in l:\n",
    "    multi = multi*i\n",
    "    \n",
    "print(multi)"
   ]
  },
  {
   "cell_type": "markdown",
   "id": "3825506a",
   "metadata": {},
   "source": [
    "### 3. Write a Python program to find smallest number in a list?"
   ]
  },
  {
   "cell_type": "code",
   "execution_count": 5,
   "id": "213cd9f5",
   "metadata": {},
   "outputs": [
    {
     "name": "stdout",
     "output_type": "stream",
     "text": [
      "1\n"
     ]
    }
   ],
   "source": [
    "l = [4,7,8,45,60,23,1]\n",
    "min = l[0]\n",
    "for i in l:\n",
    "    if i < min:\n",
    "        min = i\n",
    "        \n",
    "print(min)"
   ]
  },
  {
   "cell_type": "markdown",
   "id": "bd7873fc",
   "metadata": {},
   "source": [
    "### 4. Write a Python program to find largest number in a list?"
   ]
  },
  {
   "cell_type": "code",
   "execution_count": 6,
   "id": "fa4aa76e",
   "metadata": {},
   "outputs": [
    {
     "name": "stdout",
     "output_type": "stream",
     "text": [
      "60\n"
     ]
    }
   ],
   "source": [
    "l = [4,7,8,45,60,23,1]\n",
    "\n",
    "maximum = l[0]\n",
    "for i in l:\n",
    "    if i > maximum:\n",
    "        maximum = i\n",
    "        \n",
    "print(maximum)"
   ]
  },
  {
   "cell_type": "markdown",
   "id": "1cebab8f",
   "metadata": {},
   "source": [
    "### 5. Write a Python program to find second largest number in a list?"
   ]
  },
  {
   "cell_type": "code",
   "execution_count": 7,
   "id": "8be083fd",
   "metadata": {},
   "outputs": [
    {
     "name": "stdout",
     "output_type": "stream",
     "text": [
      "Second largest number: 45\n"
     ]
    }
   ],
   "source": [
    "l = [4,7,8,45,60,23,1]\n",
    "l.sort(reverse=True)\n",
    "print(\"Second largest number:\", l[1])"
   ]
  },
  {
   "cell_type": "markdown",
   "id": "544e3e86",
   "metadata": {},
   "source": [
    "### 6. Write a Python program to find N largest elements from a list?"
   ]
  },
  {
   "cell_type": "code",
   "execution_count": 11,
   "id": "0a78c9ae",
   "metadata": {},
   "outputs": [],
   "source": [
    "l = [4,7,8,45,60,23,1]"
   ]
  },
  {
   "cell_type": "code",
   "execution_count": 8,
   "id": "428c8194",
   "metadata": {},
   "outputs": [],
   "source": [
    "def findLarge(lst, n):\n",
    "    \n",
    "    lst.sort(reverse = True)\n",
    "    return lst[n-1]"
   ]
  },
  {
   "cell_type": "code",
   "execution_count": 9,
   "id": "5a9a5793",
   "metadata": {},
   "outputs": [
    {
     "data": {
      "text/plain": [
       "7"
      ]
     },
     "execution_count": 9,
     "metadata": {},
     "output_type": "execute_result"
    }
   ],
   "source": [
    "# 5th Largest Element\n",
    "\n",
    "findLarge(l, 5)"
   ]
  },
  {
   "cell_type": "markdown",
   "id": "04e7693f",
   "metadata": {},
   "source": [
    "### 7. Write a Python program to print even numbers in a list?"
   ]
  },
  {
   "cell_type": "code",
   "execution_count": 12,
   "id": "2d056ed2",
   "metadata": {},
   "outputs": [
    {
     "data": {
      "text/plain": [
       "[4, 8, 60]"
      ]
     },
     "execution_count": 12,
     "metadata": {},
     "output_type": "execute_result"
    }
   ],
   "source": [
    "[ i for i in l if i%2 == 0]"
   ]
  },
  {
   "cell_type": "markdown",
   "id": "a5917028",
   "metadata": {},
   "source": [
    "### 8. Write a Python program to print odd numbers in a List?"
   ]
  },
  {
   "cell_type": "code",
   "execution_count": 13,
   "id": "e505fbea",
   "metadata": {},
   "outputs": [
    {
     "data": {
      "text/plain": [
       "[7, 45, 23, 1]"
      ]
     },
     "execution_count": 13,
     "metadata": {},
     "output_type": "execute_result"
    }
   ],
   "source": [
    "[ i for i in l if i%2 == 1]"
   ]
  },
  {
   "cell_type": "markdown",
   "id": "032fcdc4",
   "metadata": {},
   "source": [
    "### 9. Write a Python program to Remove empty List from List?"
   ]
  },
  {
   "cell_type": "code",
   "execution_count": 15,
   "id": "d468d258",
   "metadata": {},
   "outputs": [
    {
     "data": {
      "text/plain": [
       "[21, 91, [9, 6, -98], [6], [78], 9, 21]"
      ]
     },
     "execution_count": 15,
     "metadata": {},
     "output_type": "execute_result"
    }
   ],
   "source": [
    "l = [[], 21, 91, [9,6, -98] , [6], [78], [], [], 9, 21]\n",
    "\n",
    "r = []\n",
    "for i in l:\n",
    "    if type(i) == list:\n",
    "        if len(i) != 0:\n",
    "            r.append(i)\n",
    "    else:\n",
    "        r.append(i)\n",
    "\n",
    "result"
   ]
  },
  {
   "cell_type": "markdown",
   "id": "b2f4ab99",
   "metadata": {},
   "source": [
    "### 10. Write a Python program to Cloning or Copying a list?"
   ]
  },
  {
   "cell_type": "code",
   "execution_count": 17,
   "id": "94714cf3",
   "metadata": {},
   "outputs": [
    {
     "name": "stdout",
     "output_type": "stream",
     "text": [
      "[3, 5, 6, 7, 8, 98, 75, 1, [44, 5, 1]]\n"
     ]
    }
   ],
   "source": [
    "l1 = [3,5,6,7,8,98,75,1, [44,5,1]]\n",
    "l2 = []\n",
    "\n",
    "for i in l1:\n",
    "    l2.append(i)\n",
    "    \n",
    "print(l2)"
   ]
  },
  {
   "cell_type": "markdown",
   "id": "b04145ed",
   "metadata": {},
   "source": [
    "### 11. Write a Python program to Count occurrences of an element in a list?"
   ]
  },
  {
   "cell_type": "code",
   "execution_count": 18,
   "id": "d828b82a",
   "metadata": {},
   "outputs": [],
   "source": [
    "l = [2,3,4,5,6,7,6,5,4,3,2,2,2,]\n",
    "\n",
    "def occur(lst, element):\n",
    "    count = 0\n",
    "    for i in lst:\n",
    "        if i == element:\n",
    "            count += 1\n",
    "            \n",
    "    return count"
   ]
  },
  {
   "cell_type": "code",
   "execution_count": 19,
   "id": "21e3149a",
   "metadata": {},
   "outputs": [
    {
     "data": {
      "text/plain": [
       "4"
      ]
     },
     "execution_count": 19,
     "metadata": {},
     "output_type": "execute_result"
    }
   ],
   "source": [
    "occur(l, 2)"
   ]
  },
  {
   "cell_type": "code",
   "execution_count": null,
   "id": "5e19abde",
   "metadata": {},
   "outputs": [],
   "source": []
  }
 ],
 "metadata": {
  "kernelspec": {
   "display_name": "Python 3",
   "language": "python",
   "name": "python3"
  },
  "language_info": {
   "codemirror_mode": {
    "name": "ipython",
    "version": 3
   },
   "file_extension": ".py",
   "mimetype": "text/x-python",
   "name": "python",
   "nbconvert_exporter": "python",
   "pygments_lexer": "ipython3",
   "version": "3.8.8"
  }
 },
 "nbformat": 4,
 "nbformat_minor": 5
}
