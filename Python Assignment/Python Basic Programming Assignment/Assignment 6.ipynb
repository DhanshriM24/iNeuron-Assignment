{
 "cells": [
  {
   "cell_type": "markdown",
   "id": "e433770b",
   "metadata": {},
   "source": [
    "## Python Basic Programming Assignment - 6\n",
    "--------------"
   ]
  },
  {
   "cell_type": "markdown",
   "id": "cb5ccb40",
   "metadata": {},
   "source": [
    "### 1. Write a Python Program to Display Fibonacci Sequence Using Recursion?"
   ]
  },
  {
   "cell_type": "code",
   "execution_count": 7,
   "id": "8533b0bd",
   "metadata": {},
   "outputs": [
    {
     "name": "stdout",
     "output_type": "stream",
     "text": [
      "Enter number : 10\n",
      "Fibonacci Sequence :\n",
      "0,1,1,2,3,5,8,13,21,34,"
     ]
    }
   ],
   "source": [
    "def fib(n):\n",
    "    if n <=1:\n",
    "        return n\n",
    "    else:\n",
    "        return (fib(n-1)+fib(n-2))\n",
    "    \n",
    "num=int(input(\"Enter number : \"))\n",
    "\n",
    "if num <=0:\n",
    "    print(\"Enter positive number\")\n",
    "else:\n",
    "    print(\"Fibonacci Sequence :\")\n",
    "    for i in range(num):\n",
    "        print(fib(i),end=\",\")"
   ]
  },
  {
   "cell_type": "markdown",
   "id": "78b34e5f",
   "metadata": {},
   "source": [
    "### 2. Write a Python Program to Find Factorial of Number Using Recursion?"
   ]
  },
  {
   "cell_type": "code",
   "execution_count": 8,
   "id": "200bb925",
   "metadata": {},
   "outputs": [],
   "source": [
    "def fact(n):\n",
    "    if n == 0:\n",
    "        return 1\n",
    "    else:\n",
    "        return n*fact(n-1)"
   ]
  },
  {
   "cell_type": "code",
   "execution_count": 10,
   "id": "9e2063b5",
   "metadata": {},
   "outputs": [
    {
     "data": {
      "text/plain": [
       "3628800"
      ]
     },
     "execution_count": 10,
     "metadata": {},
     "output_type": "execute_result"
    }
   ],
   "source": [
    "fact(10)"
   ]
  },
  {
   "cell_type": "markdown",
   "id": "33a4ed37",
   "metadata": {},
   "source": [
    "### 3. Write a Python Program to calculate your Body Mass Index?"
   ]
  },
  {
   "cell_type": "code",
   "execution_count": 26,
   "id": "b42360c1",
   "metadata": {},
   "outputs": [
    {
     "name": "stdout",
     "output_type": "stream",
     "text": [
      "Enter weight in kg : 46\n",
      "Enter height in m :1.7\n",
      "Your bmi is 15.91695501730104\n"
     ]
    }
   ],
   "source": [
    "weight=float(input(\"Enter weight in kg : \"))\n",
    "height=float(input(\"Enter height in m :\"))\n",
    "\n",
    "bmi=weight/(height*height)\n",
    "print(\"Your bmi is\",bmi)"
   ]
  },
  {
   "cell_type": "markdown",
   "id": "0ceb4456",
   "metadata": {},
   "source": [
    "### 4. Write a Python Program to calculate the natural logarithm of any number?"
   ]
  },
  {
   "cell_type": "code",
   "execution_count": 27,
   "id": "5523232f",
   "metadata": {},
   "outputs": [
    {
     "name": "stdout",
     "output_type": "stream",
     "text": [
      "Enter the number: 12\n",
      "2.4849066497880004\n"
     ]
    }
   ],
   "source": [
    "import math\n",
    "\n",
    "try:\n",
    "    num = int(input(\"Enter the number: \"))\n",
    "except Exception as e:\n",
    "    print(e)\n",
    "else:\n",
    "    print(math.log(num))"
   ]
  },
  {
   "cell_type": "markdown",
   "id": "2407a004",
   "metadata": {},
   "source": [
    "### 5. Write a Python Program for cube sum of first n natural numbers?"
   ]
  },
  {
   "cell_type": "code",
   "execution_count": 28,
   "id": "dd66907f",
   "metadata": {},
   "outputs": [
    {
     "name": "stdout",
     "output_type": "stream",
     "text": [
      "Enter Natural Numbers: 3\n",
      "The Cube Sum of First 3 Natural Numbers is 36.0\n"
     ]
    }
   ],
   "source": [
    "def cube():\n",
    "    num = int(input(\"Enter Natural Numbers: \"))\n",
    "    result = pow(((num * (num +1))/2),2)\n",
    "    print(f'The Cube Sum of First {num} Natural Numbers is {result}')\n",
    "\n",
    "cube()"
   ]
  },
  {
   "cell_type": "code",
   "execution_count": null,
   "id": "84d0091b",
   "metadata": {},
   "outputs": [],
   "source": []
  }
 ],
 "metadata": {
  "kernelspec": {
   "display_name": "Python 3",
   "language": "python",
   "name": "python3"
  },
  "language_info": {
   "codemirror_mode": {
    "name": "ipython",
    "version": 3
   },
   "file_extension": ".py",
   "mimetype": "text/x-python",
   "name": "python",
   "nbconvert_exporter": "python",
   "pygments_lexer": "ipython3",
   "version": "3.8.8"
  }
 },
 "nbformat": 4,
 "nbformat_minor": 5
}
