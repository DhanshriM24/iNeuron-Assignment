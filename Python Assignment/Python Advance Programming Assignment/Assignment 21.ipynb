{
 "cells": [
  {
   "cell_type": "markdown",
   "id": "66c545c4",
   "metadata": {},
   "source": [
    "## Python Advance Programming Assignment 21"
   ]
  },
  {
   "cell_type": "markdown",
   "id": "ae3a36a1",
   "metadata": {},
   "source": [
    "### 1. Given a sentence, return the number of words which have the same first and last letter. "
   ]
  },
  {
   "cell_type": "code",
   "execution_count": 6,
   "id": "ff2009ac",
   "metadata": {},
   "outputs": [],
   "source": [
    "def count_same_ends(s):\n",
    "    chars = '!@#$%^&*.'\n",
    "    cleaned_string = ''\n",
    "    output = 0\n",
    "    for i in s:\n",
    "        if i not in chars:\n",
    "            cleaned_string += i\n",
    "    for i in cleaned_string.split(\" \"):\n",
    "        if i[0].lower() == i[-1].lower():\n",
    "            if len(i) != 1:\n",
    "                output +=1\n",
    "    print(output)"
   ]
  },
  {
   "cell_type": "code",
   "execution_count": 7,
   "id": "7fd885d1",
   "metadata": {},
   "outputs": [
    {
     "name": "stdout",
     "output_type": "stream",
     "text": [
      "1\n"
     ]
    }
   ],
   "source": [
    "count_same_ends(\"Pop! goes the balloon\")"
   ]
  },
  {
   "cell_type": "code",
   "execution_count": 8,
   "id": "bc777377",
   "metadata": {},
   "outputs": [
    {
     "name": "stdout",
     "output_type": "stream",
     "text": [
      "0\n"
     ]
    }
   ],
   "source": [
    "count_same_ends(\"And the crowd goes wild!\")"
   ]
  },
  {
   "cell_type": "code",
   "execution_count": 9,
   "id": "e39996b4",
   "metadata": {},
   "outputs": [
    {
     "name": "stdout",
     "output_type": "stream",
     "text": [
      "1\n"
     ]
    }
   ],
   "source": [
    "count_same_ends(\"No I am not in a gang.\")"
   ]
  },
  {
   "cell_type": "markdown",
   "id": "0254489d",
   "metadata": {},
   "source": [
    "### 2. The Atbash cipher is an encryption method in which each letter of a word is replaced with its \"mirror\" letter in the alphabet: A <=> Z; B <=> Y; C <=> X; etc.\n",
    "\n",
    "Create a function that takes a string and applies the Atbash cipher to it.  "
   ]
  },
  {
   "cell_type": "code",
   "execution_count": 11,
   "id": "bfe0b293",
   "metadata": {},
   "outputs": [],
   "source": [
    "def atbash(s):\n",
    "    alpha = 'abcdefghijklmnopqrstuvwxyz'\n",
    "    r_alpha = 'zyxwvutsrqponmlkjihgfedcba'\n",
    "    output = ''\n",
    "    for i in s:\n",
    "        if i not in \" !1234567890\":\n",
    "            output += r_alpha[alpha.index(i.lower())].upper() if i.isupper() else r_alpha[alpha.index(i.lower())]\n",
    "        else:\n",
    "            output += i\n",
    "    print(output)"
   ]
  },
  {
   "cell_type": "code",
   "execution_count": 12,
   "id": "fc9a0057",
   "metadata": {},
   "outputs": [
    {
     "name": "stdout",
     "output_type": "stream",
     "text": [
      "zkkov\n"
     ]
    }
   ],
   "source": [
    "atbash(\"apple\")"
   ]
  },
  {
   "cell_type": "code",
   "execution_count": 13,
   "id": "6e760d2b",
   "metadata": {},
   "outputs": [
    {
     "name": "stdout",
     "output_type": "stream",
     "text": [
      "Svool dliow!\n"
     ]
    }
   ],
   "source": [
    "atbash(\"Hello world!\")"
   ]
  },
  {
   "cell_type": "code",
   "execution_count": 14,
   "id": "66b4cb53",
   "metadata": {},
   "outputs": [
    {
     "name": "stdout",
     "output_type": "stream",
     "text": [
      "Xsirhgnzh rh gsv 25gs lu Wvxvnyvi\n"
     ]
    }
   ],
   "source": [
    "atbash(\"Christmas is the 25th of December\")"
   ]
  },
  {
   "cell_type": "markdown",
   "id": "e2ddd570",
   "metadata": {},
   "source": [
    "### 3. Create a class Employee that will take a full name as argument, as well as a set of none, one or more keywords. Each instance should have a name and a lastname attributes plus one more attribute for each of the keywords, if any."
   ]
  },
  {
   "cell_type": "code",
   "execution_count": 18,
   "id": "323cb1bd",
   "metadata": {},
   "outputs": [],
   "source": [
    "class Employee:\n",
    "    def __init__(self,name=None,salary=None,height=None,nationality=None):\n",
    "        self.name = name\n",
    "        self.fname = name.split(\" \")[0]\n",
    "        self.lname = name.split(\" \")[1]\n",
    "        self.salary = salary\n",
    "        self.height = height\n",
    "        self.nationality = nationality\n",
    "        \n",
    "john = Employee(\"John Doe\")    \n",
    "mary = Employee(\"Mary Major\",salary=120000)\n",
    "richard = Employee(\"Richard Roe\", salary=110000, height=178)\n",
    "giancarlo = Employee(\"Giancarlo Rossi\", salary=115000, height=182, nationality=\"Italian\")"
   ]
  },
  {
   "cell_type": "code",
   "execution_count": 20,
   "id": "1c629c31",
   "metadata": {},
   "outputs": [
    {
     "name": "stdout",
     "output_type": "stream",
     "text": [
      "name : \"John Doe\"\n",
      "lastname : \"Major\"\n",
      "height : 178\n",
      "nationality : \"Italian\"\n"
     ]
    }
   ],
   "source": [
    "\n",
    "print(f'name : \"{john.name}\"')\n",
    "print(f'lastname : \"{mary.lname}\"')\n",
    "print(f'height : {richard.height}')\n",
    "print(f'nationality : \"{giancarlo.nationality}\"')"
   ]
  },
  {
   "cell_type": "markdown",
   "id": "1f8191e1",
   "metadata": {},
   "source": [
    "### 4. Create a function that determines whether each seat can \"see\" the front-stage. A number can \"see\" the front-stage if it is strictly greater than the number before it.\n",
    "\n",
    "Everyone can see the front-stage in the example below:\n",
    "\n",
    "`# FRONT STAGE\n",
    "[[1, 2, 3, 2, 1, 1],\n",
    "[2, 4, 4, 3, 2, 2],\n",
    "[5, 5, 5, 5, 4, 4],\n",
    "[6, 6, 7, 6, 5, 5]]`\n",
    "\n",
    "`# Starting from the left, the 6 > 5 > 2 > 1, so all numbers can see.`  \n",
    "`# 6 > 5 > 4 > 2 - so all numbers can see, etc.`  \n",
    "\n",
    "Not everyone can see the front-stage in the example below:\n",
    "\n",
    "`# FRONT STAGE\n",
    "[[1, 2, 3, 2, 1, 1], \n",
    "[2, 4, 4, 3, 2, 2], \n",
    "[5, 5, 5, 10, 4, 4], \n",
    "[6, 6, 7, 6, 5, 5]]`  \n",
    "\n",
    "`# The 10 is directly in front of the 6 and blocking its view.`  \n",
    "\n",
    "The function should return True if every number can see the front-stage, and False if even a single number cannot.  "
   ]
  },
  {
   "cell_type": "code",
   "execution_count": 23,
   "id": "28dadc01",
   "metadata": {},
   "outputs": [],
   "source": [
    "def can_see_stage(lst):\n",
    "    transposed = []\n",
    "    for i in range(len(lst)):\n",
    "        temp = []\n",
    "        for item in range(len(lst[i])):\n",
    "            temp.append(lst[item][i])\n",
    "        transposed.append(temp)\n",
    "    output = True\n",
    "    for i in transposed:\n",
    "        if i != sorted(i) or len(i) != len(set(i)):\n",
    "            output = False\n",
    "            break\n",
    "    print(output)"
   ]
  },
  {
   "cell_type": "code",
   "execution_count": 24,
   "id": "12b9df95",
   "metadata": {},
   "outputs": [
    {
     "name": "stdout",
     "output_type": "stream",
     "text": [
      "True\n"
     ]
    }
   ],
   "source": [
    "can_see_stage([[1, 2, 3],[4, 5, 6],[7, 8, 9]])"
   ]
  },
  {
   "cell_type": "code",
   "execution_count": 25,
   "id": "e1059f97",
   "metadata": {},
   "outputs": [
    {
     "name": "stdout",
     "output_type": "stream",
     "text": [
      "True\n"
     ]
    }
   ],
   "source": [
    "can_see_stage([[0, 0, 0],[1, 1, 1],[2, 2, 2]])"
   ]
  },
  {
   "cell_type": "code",
   "execution_count": 26,
   "id": "9b43e99a",
   "metadata": {},
   "outputs": [
    {
     "name": "stdout",
     "output_type": "stream",
     "text": [
      "False\n"
     ]
    }
   ],
   "source": [
    "can_see_stage([[2, 0, 0],[1, 1, 1],[2, 2, 2]])"
   ]
  },
  {
   "cell_type": "code",
   "execution_count": 27,
   "id": "8a14b58d",
   "metadata": {},
   "outputs": [
    {
     "name": "stdout",
     "output_type": "stream",
     "text": [
      "False\n"
     ]
    }
   ],
   "source": [
    "can_see_stage([[1, 0, 0],[1, 1, 1],[2, 2, 2]])"
   ]
  },
  {
   "cell_type": "markdown",
   "id": "aa6f7d42",
   "metadata": {},
   "source": [
    "### 5. Create a Pizza class with the attributes order_number and ingredients (which is given as a list). Only the ingredients will be given as input.\n",
    "\n",
    "You should also make it so that its possible to choose a ready made pizza flavour rather than typing out the ingredients manually! As well as creating this Pizza class, hard-code the following pizza flavours.\n",
    "\n",
    "\t          \n",
    "\t\n",
    "\t\n",
    "\n",
    "| Name      | Ingredients |\n",
    "| ----------- | ----------- |\n",
    "| hawaiian      | ham, pineapple       |\n",
    "| meat_festival   | beef, meatball, bacon        |\n",
    "| garden_feast   | spinach, olives, mushroom        |"
   ]
  },
  {
   "cell_type": "code",
   "execution_count": 30,
   "id": "8e86ff9f",
   "metadata": {},
   "outputs": [],
   "source": [
    "class Pizza:\n",
    "    order_count = 0\n",
    "    def __init__(self,ingredients=None):\n",
    "        self.ingredients = ingredients\n",
    "        self.order_number = Pizza.order_count+1\n",
    "        Pizza.order_count = self.order_number\n",
    "    def hawaiian(self):\n",
    "        self.ingredients = ['ham', 'pineapple']\n",
    "    def meat_festival(self):\n",
    "        self.ingredients = ['beef', 'meatball', 'bacon']\n",
    "    def garden_feast(self):\n",
    "        self.ingredients = ['spinach', 'olives', 'mushroom']"
   ]
  },
  {
   "cell_type": "code",
   "execution_count": 32,
   "id": "ba7e3a46",
   "metadata": {},
   "outputs": [],
   "source": [
    "p1 = Pizza([\"bacon\", \"parmesan\", \"ham\"])\n",
    "p2 = Pizza()\n",
    "p2.garden_feast()"
   ]
  },
  {
   "cell_type": "code",
   "execution_count": 35,
   "id": "fe173a50",
   "metadata": {},
   "outputs": [
    {
     "name": "stdout",
     "output_type": "stream",
     "text": [
      "p1.ingredients ➞ ['bacon', 'parmesan', 'ham']\n",
      "p1.order_number ➞ 3\n"
     ]
    }
   ],
   "source": [
    "print(f'p1.ingredients ➞ {p1.ingredients}')\n",
    "print(f'p1.order_number ➞ {p1.order_number}')"
   ]
  },
  {
   "cell_type": "code",
   "execution_count": 36,
   "id": "18c12eea",
   "metadata": {},
   "outputs": [
    {
     "name": "stdout",
     "output_type": "stream",
     "text": [
      "p2.ingredients ➞ ['spinach', 'olives', 'mushroom']\n",
      "p2.order_number ➞ 4\n"
     ]
    }
   ],
   "source": [
    "print(f'p2.ingredients ➞ {p2.ingredients}')\n",
    "print(f'p2.order_number ➞ {p2.order_number}')"
   ]
  },
  {
   "cell_type": "code",
   "execution_count": null,
   "id": "6537456a",
   "metadata": {},
   "outputs": [],
   "source": []
  }
 ],
 "metadata": {
  "kernelspec": {
   "display_name": "Python 3",
   "language": "python",
   "name": "python3"
  },
  "language_info": {
   "codemirror_mode": {
    "name": "ipython",
    "version": 3
   },
   "file_extension": ".py",
   "mimetype": "text/x-python",
   "name": "python",
   "nbconvert_exporter": "python",
   "pygments_lexer": "ipython3",
   "version": "3.8.8"
  }
 },
 "nbformat": 4,
 "nbformat_minor": 5
}
