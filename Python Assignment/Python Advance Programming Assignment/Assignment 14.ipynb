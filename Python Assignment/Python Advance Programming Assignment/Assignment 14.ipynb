{
 "cells": [
  {
   "cell_type": "markdown",
   "id": "527cb3ea",
   "metadata": {},
   "source": [
    "## Python Advance Programming Assignment 14"
   ]
  },
  {
   "cell_type": "markdown",
   "id": "ec6d283a",
   "metadata": {},
   "source": [
    "### 1. Given a list of numbers, create a function that removes 25% from every number in the list except the smallest number, and adds the total amount removed to the smallest number."
   ]
  },
  {
   "cell_type": "code",
   "execution_count": 6,
   "id": "5e27268a",
   "metadata": {},
   "outputs": [],
   "source": [
    "def show_the_love(lst):\n",
    "    out = lst.copy()\n",
    "    sum = 0\n",
    "    for i in range(len(out)):\n",
    "        if out[i] is not min(out):\n",
    "            sum += out[i]/4\n",
    "            out[i] =  out[i]-(out[i]/4)\n",
    "    out[out.index(min(out))] = sum +min(out)\n",
    "    print(out)"
   ]
  },
  {
   "cell_type": "code",
   "execution_count": 9,
   "id": "f7492e51",
   "metadata": {},
   "outputs": [
    {
     "name": "stdout",
     "output_type": "stream",
     "text": [
      "[3.0, 3.0, 3.0]\n"
     ]
    }
   ],
   "source": [
    "show_the_love([4, 1, 4])"
   ]
  },
  {
   "cell_type": "code",
   "execution_count": 10,
   "id": "a2ee138c",
   "metadata": {},
   "outputs": [
    {
     "name": "stdout",
     "output_type": "stream",
     "text": [
      "[12.0, 7.5, 14.5]\n"
     ]
    }
   ],
   "source": [
    "show_the_love([16, 10, 8])"
   ]
  },
  {
   "cell_type": "code",
   "execution_count": 11,
   "id": "ca0711fc",
   "metadata": {},
   "outputs": [
    {
     "name": "stdout",
     "output_type": "stream",
     "text": [
      "[27.0, 75.0]\n"
     ]
    }
   ],
   "source": [
    "show_the_love([2, 100])"
   ]
  },
  {
   "cell_type": "markdown",
   "id": "7862685a",
   "metadata": {},
   "source": [
    "### 2. Create a function that takes in two words as input and returns a list of three elements, in the following order:\n",
    "\n",
    "   1.Shared letters between two words.\n",
    "   2.Letters unique to word 1.\n",
    "   3.Letters unique to word 2.\n",
    "\n",
    "Each element should have unique letters, and have each letter be alphabetically sorted."
   ]
  },
  {
   "cell_type": "code",
   "execution_count": 15,
   "id": "22d8358f",
   "metadata": {},
   "outputs": [],
   "source": [
    "def letters(one,two):\n",
    "    one_set = set(one)\n",
    "    two_set = set(two)\n",
    "    output = []\n",
    "    output.append(''.join(sorted(one_set.intersection(two_set))))\n",
    "    output.append(''.join(sorted(one_set.difference(two_set))))\n",
    "    output.append(''.join(sorted(two_set.difference(one_set)))) \n",
    "    print(output)"
   ]
  },
  {
   "cell_type": "code",
   "execution_count": 17,
   "id": "5597bc48",
   "metadata": {},
   "outputs": [
    {
     "name": "stdout",
     "output_type": "stream",
     "text": [
      "['aps', 'hr', 'o']\n"
     ]
    }
   ],
   "source": [
    "letters(\"sharp\", \"soap\")"
   ]
  },
  {
   "cell_type": "code",
   "execution_count": 18,
   "id": "1419c5d2",
   "metadata": {},
   "outputs": [
    {
     "name": "stdout",
     "output_type": "stream",
     "text": [
      "['bdor', 'a', 'e']\n"
     ]
    }
   ],
   "source": [
    "letters(\"board\", \"bored\")"
   ]
  },
  {
   "cell_type": "code",
   "execution_count": 19,
   "id": "f14b7734",
   "metadata": {},
   "outputs": [
    {
     "name": "stdout",
     "output_type": "stream",
     "text": [
      "['enp', 'ahis', 'lov']\n"
     ]
    }
   ],
   "source": [
    "letters(\"happiness\", \"envelope\")"
   ]
  },
  {
   "cell_type": "code",
   "execution_count": 20,
   "id": "6550b592",
   "metadata": {},
   "outputs": [
    {
     "name": "stdout",
     "output_type": "stream",
     "text": [
      "['flu', 'ekr', 'y']\n"
     ]
    }
   ],
   "source": [
    "letters(\"kerfuffle\", \"fluffy\")"
   ]
  },
  {
   "cell_type": "code",
   "execution_count": 21,
   "id": "1cda996a",
   "metadata": {},
   "outputs": [
    {
     "name": "stdout",
     "output_type": "stream",
     "text": [
      "['ahm', 'ct', '']\n"
     ]
    }
   ],
   "source": [
    "letters(\"match\", \"ham\")"
   ]
  },
  {
   "cell_type": "markdown",
   "id": "e410b887",
   "metadata": {},
   "source": [
    "### 3. Write a function that pairs the first number in an array with the last, the second number with the second to last, etc."
   ]
  },
  {
   "cell_type": "code",
   "execution_count": 28,
   "id": "bc563dee",
   "metadata": {},
   "outputs": [],
   "source": [
    "def pairs(lst):\n",
    "    output = []\n",
    "    while True:\n",
    "        if len(lst) > 0:\n",
    "            if len(lst) == 1:\n",
    "                output.append([lst[0],lst.pop(0)])\n",
    "            else:\n",
    "                output.append([lst.pop(0),lst.pop(-1)])\n",
    "        else:\n",
    "            break\n",
    "    print(output)"
   ]
  },
  {
   "cell_type": "code",
   "execution_count": 29,
   "id": "f0b894b2",
   "metadata": {},
   "outputs": [
    {
     "name": "stdout",
     "output_type": "stream",
     "text": [
      "[[1, 7], [2, 6], [3, 5], [4, 4]]\n"
     ]
    }
   ],
   "source": [
    "pairs([1, 2, 3, 4, 5, 6, 7])"
   ]
  },
  {
   "cell_type": "code",
   "execution_count": 30,
   "id": "737fa052",
   "metadata": {},
   "outputs": [
    {
     "name": "stdout",
     "output_type": "stream",
     "text": [
      "[[1, 6], [2, 5], [3, 4]]\n"
     ]
    }
   ],
   "source": [
    "pairs([1, 2, 3, 4, 5, 6])"
   ]
  },
  {
   "cell_type": "code",
   "execution_count": 31,
   "id": "d857da67",
   "metadata": {},
   "outputs": [
    {
     "name": "stdout",
     "output_type": "stream",
     "text": [
      "[[5, 2], [9, 1], [8, 8]]\n"
     ]
    }
   ],
   "source": [
    "pairs([5, 9, 8, 1, 2])"
   ]
  },
  {
   "cell_type": "code",
   "execution_count": 32,
   "id": "d7b13498",
   "metadata": {},
   "outputs": [
    {
     "name": "stdout",
     "output_type": "stream",
     "text": [
      "[]\n"
     ]
    }
   ],
   "source": [
    "pairs([])"
   ]
  },
  {
   "cell_type": "markdown",
   "id": "6e9d2e61",
   "metadata": {},
   "source": [
    "### 4. Write a function that adds two numbers. The catch, however, is that the numbers will be strings."
   ]
  },
  {
   "cell_type": "code",
   "execution_count": 36,
   "id": "0025c58b",
   "metadata": {},
   "outputs": [],
   "source": [
    "def add_str_nums(one,two):\n",
    "    one = one if len(one) > 0 else \"0\"\n",
    "    two = two if len(two) > 0 else \"0\"\n",
    "    if one.isdigit() == False or two.isdigit() == False:\n",
    "        output = -1\n",
    "    else: \n",
    "        output = int(one)+int(two)\n",
    "    print(str(output))"
   ]
  },
  {
   "cell_type": "code",
   "execution_count": 37,
   "id": "75d34368",
   "metadata": {},
   "outputs": [
    {
     "name": "stdout",
     "output_type": "stream",
     "text": [
      "9\n"
     ]
    }
   ],
   "source": [
    "add_str_nums(\"4\", \"5\")"
   ]
  },
  {
   "cell_type": "code",
   "execution_count": 38,
   "id": "bca6d93b",
   "metadata": {},
   "outputs": [
    {
     "name": "stdout",
     "output_type": "stream",
     "text": [
      "-1\n"
     ]
    }
   ],
   "source": [
    "add_str_nums(\"abcdefg\", \"3\")"
   ]
  },
  {
   "cell_type": "code",
   "execution_count": 39,
   "id": "c99edcf4",
   "metadata": {},
   "outputs": [
    {
     "name": "stdout",
     "output_type": "stream",
     "text": [
      "1\n"
     ]
    }
   ],
   "source": [
    "add_str_nums(\"1\", \"\")"
   ]
  },
  {
   "cell_type": "code",
   "execution_count": 40,
   "id": "d089aad9",
   "metadata": {},
   "outputs": [
    {
     "name": "stdout",
     "output_type": "stream",
     "text": [
      "1874682736267235927391936562808774986\n"
     ]
    }
   ],
   "source": [
    "add_str_nums(\"1874682736267235927359283579235789257\", \"32652983572985729\")"
   ]
  },
  {
   "cell_type": "markdown",
   "id": "b29281f5",
   "metadata": {},
   "source": [
    "### 5. lPaeesh le pemu mnxit ehess rtnisg! Oh, sorry, that was supposed to say: Please help me unmix these strings!\n",
    "\n",
    "Somehow my strings have all become mixed up; every pair of characters has been swapped. Help me undo this so I can understand my strings again."
   ]
  },
  {
   "cell_type": "code",
   "execution_count": 43,
   "id": "0117f776",
   "metadata": {},
   "outputs": [],
   "source": [
    "def unmix(string):\n",
    "    output = ''\n",
    "    for i in range(0,len(string)-1,2):\n",
    "        output += string[i+1]+string[i]\n",
    "        if (len(string)%2 != 0 and i == len(string)//2 ):\n",
    "            output += string[-1]       \n",
    "    print(output)"
   ]
  },
  {
   "cell_type": "code",
   "execution_count": 44,
   "id": "43bb2b35",
   "metadata": {},
   "outputs": [
    {
     "name": "stdout",
     "output_type": "stream",
     "text": [
      "214365\n"
     ]
    }
   ],
   "source": [
    "unmix(\"123456\")"
   ]
  },
  {
   "cell_type": "code",
   "execution_count": 45,
   "id": "e1df5dba",
   "metadata": {},
   "outputs": [
    {
     "name": "stdout",
     "output_type": "stream",
     "text": [
      "This is a mixed up string.\n"
     ]
    }
   ],
   "source": [
    "unmix(\"hTsii  s aimex dpus rtni.g\")"
   ]
  },
  {
   "cell_type": "code",
   "execution_count": 46,
   "id": "7763bcab",
   "metadata": {},
   "outputs": [
    {
     "name": "stdout",
     "output_type": "stream",
     "text": [
      "abcde\n"
     ]
    }
   ],
   "source": [
    "unmix(\"badce\")"
   ]
  },
  {
   "cell_type": "code",
   "execution_count": null,
   "id": "5c086ae7",
   "metadata": {},
   "outputs": [],
   "source": []
  }
 ],
 "metadata": {
  "kernelspec": {
   "display_name": "Python 3",
   "language": "python",
   "name": "python3"
  },
  "language_info": {
   "codemirror_mode": {
    "name": "ipython",
    "version": 3
   },
   "file_extension": ".py",
   "mimetype": "text/x-python",
   "name": "python",
   "nbconvert_exporter": "python",
   "pygments_lexer": "ipython3",
   "version": "3.8.8"
  }
 },
 "nbformat": 4,
 "nbformat_minor": 5
}
