{
 "cells": [
  {
   "cell_type": "markdown",
   "id": "fff8783b",
   "metadata": {},
   "source": [
    "# Python Advance Programming Assignment 3"
   ]
  },
  {
   "cell_type": "markdown",
   "id": "cb785f8a",
   "metadata": {},
   "source": [
    "### 1. Create a function to perform basic arithmetic operations that includes addition, subtraction, multiplication and division on a string number (e.g. \"12 + 24\" or \"23 - 21\" or \"12 // 12\" or \"12 * 21\").\n"
   ]
  },
  {
   "cell_type": "code",
   "execution_count": 12,
   "id": "381684f0",
   "metadata": {},
   "outputs": [],
   "source": [
    "def arithmetic_operation(string_num):\n",
    "    \n",
    "    operators = ['+', '-', '*', '//']                 \n",
    "    string_num = string_num.replace(' ', '')\n",
    "    \n",
    "    for i in string_num:\n",
    "        if i == '/':\n",
    "            i = '//'\n",
    "        if i in operators:\n",
    "            n = string_num.split(i)\n",
    "            if i == '+':\n",
    "                return int(n[0]) + int(n[1])\n",
    "            elif i == '-':\n",
    "                return int(n[0]) - int(n[1])\n",
    "            elif i == '*':\n",
    "                return int(n[0]) * int(n[1])\n",
    "            elif i == '//':\n",
    "                if int(n[1]) == 0:\n",
    "                    return -1\n",
    "                return int(n[0]) // int(n[1])"
   ]
  },
  {
   "cell_type": "code",
   "execution_count": 13,
   "id": "0d5d3bed",
   "metadata": {},
   "outputs": [
    {
     "data": {
      "text/plain": [
       "36"
      ]
     },
     "execution_count": 13,
     "metadata": {},
     "output_type": "execute_result"
    }
   ],
   "source": [
    "arithmetic_operation(\"12 + 24\")"
   ]
  },
  {
   "cell_type": "code",
   "execution_count": 14,
   "id": "b72adc22",
   "metadata": {},
   "outputs": [
    {
     "data": {
      "text/plain": [
       "2"
      ]
     },
     "execution_count": 14,
     "metadata": {},
     "output_type": "execute_result"
    }
   ],
   "source": [
    "arithmetic_operation(\"23 - 21\")"
   ]
  },
  {
   "cell_type": "code",
   "execution_count": 15,
   "id": "8fd905bd",
   "metadata": {},
   "outputs": [
    {
     "data": {
      "text/plain": [
       "1"
      ]
     },
     "execution_count": 15,
     "metadata": {},
     "output_type": "execute_result"
    }
   ],
   "source": [
    "arithmetic_operation(\"12 // 12\")"
   ]
  },
  {
   "cell_type": "code",
   "execution_count": 16,
   "id": "fd614551",
   "metadata": {},
   "outputs": [
    {
     "data": {
      "text/plain": [
       "-1"
      ]
     },
     "execution_count": 16,
     "metadata": {},
     "output_type": "execute_result"
    }
   ],
   "source": [
    "arithmetic_operation(\"12 // 0\")"
   ]
  },
  {
   "cell_type": "markdown",
   "id": "4797ad07",
   "metadata": {},
   "source": [
    "### 2. Write a function that takes the coordinates of three points in the form of a 2d array and returns the perimeter of the triangle. The given points are the vertices of a triangle on a two-dimensional plane."
   ]
  },
  {
   "cell_type": "code",
   "execution_count": 17,
   "id": "9f14b08a",
   "metadata": {},
   "outputs": [],
   "source": [
    "import math\n",
    "\n",
    "def distance(x1, y1, x2, y2):\n",
    "    length = math.sqrt((x2 - x1)**2 + (y2 - y1)**2)\n",
    "    return length\n",
    "\n",
    "def perimeter(vertices):\n",
    "    side1 = distance(vertices[0][0], vertices[0][1], vertices[1][0], vertices[1][1])\n",
    "    side2 = distance(vertices[1][0], vertices[1][1], vertices[2][0], vertices[2][1])\n",
    "    side3 = distance(vertices[2][0], vertices[2][1], vertices[0][0], vertices[0][1])\n",
    "    \n",
    "    return side1 + side2+ side3"
   ]
  },
  {
   "cell_type": "code",
   "execution_count": 18,
   "id": "7cff60f0",
   "metadata": {},
   "outputs": [
    {
     "data": {
      "text/plain": [
       "47.07918859608948"
      ]
     },
     "execution_count": 18,
     "metadata": {},
     "output_type": "execute_result"
    }
   ],
   "source": [
    "perimeter( [ [15, 7], [5, 22], [11, 1] ] )"
   ]
  },
  {
   "cell_type": "code",
   "execution_count": 19,
   "id": "f8d776b0",
   "metadata": {},
   "outputs": [
    {
     "data": {
      "text/plain": [
       "3.414213562373095"
      ]
     },
     "execution_count": 19,
     "metadata": {},
     "output_type": "execute_result"
    }
   ],
   "source": [
    "perimeter( [ [0, 0], [0, 1], [1, 0] ] )"
   ]
  },
  {
   "cell_type": "code",
   "execution_count": 20,
   "id": "db454e53",
   "metadata": {},
   "outputs": [
    {
     "data": {
      "text/plain": [
       "68.2842712474619"
      ]
     },
     "execution_count": 20,
     "metadata": {},
     "output_type": "execute_result"
    }
   ],
   "source": [
    "perimeter( [ [-10, -10], [10, 10 ], [-10, 10] ] )"
   ]
  },
  {
   "cell_type": "markdown",
   "id": "97f707bd",
   "metadata": {},
   "source": [
    "### 3. A city skyline can be represented as a 2-D list with 1s representing buildings. In the example below, the height of the tallest building is 4 (second-most right column).\n"
   ]
  },
  {
   "cell_type": "code",
   "execution_count": 22,
   "id": "a9ca4753",
   "metadata": {},
   "outputs": [],
   "source": [
    "def tallest_skyscraper(l):\n",
    "    \n",
    "    tallest = 0\n",
    "    \n",
    "    for i in range(len(l[0])):\n",
    "        current_height = 0\n",
    "        for j in range(len(l)):\n",
    "            current_height += l[j][i]\n",
    "        \n",
    "        if current_height >= tallest:\n",
    "            tallest = current_height\n",
    "            \n",
    "    return tallest"
   ]
  },
  {
   "cell_type": "code",
   "execution_count": 23,
   "id": "d061cd9e",
   "metadata": {},
   "outputs": [
    {
     "data": {
      "text/plain": [
       "3"
      ]
     },
     "execution_count": 23,
     "metadata": {},
     "output_type": "execute_result"
    }
   ],
   "source": [
    "tallest_skyscraper([\n",
    "  [0, 0, 0, 0],\n",
    "  [0, 1, 0, 0],\n",
    "  [0, 1, 1, 0],\n",
    "  [1, 1, 1, 1]\n",
    "])\n"
   ]
  },
  {
   "cell_type": "code",
   "execution_count": 24,
   "id": "1c2b7f62",
   "metadata": {},
   "outputs": [
    {
     "data": {
      "text/plain": [
       "4"
      ]
     },
     "execution_count": 24,
     "metadata": {},
     "output_type": "execute_result"
    }
   ],
   "source": [
    "tallest_skyscraper([\n",
    "  [0, 1, 0, 0],\n",
    "  [0, 1, 0, 0],\n",
    "  [0, 1, 1, 0],\n",
    "  [1, 1, 1, 1]\n",
    "])\n"
   ]
  },
  {
   "cell_type": "code",
   "execution_count": 25,
   "id": "240d062e",
   "metadata": {},
   "outputs": [
    {
     "data": {
      "text/plain": [
       "2"
      ]
     },
     "execution_count": 25,
     "metadata": {},
     "output_type": "execute_result"
    }
   ],
   "source": [
    "tallest_skyscraper([\n",
    "  [0, 0, 0, 0],\n",
    "  [0, 0, 0, 0],\n",
    "  [1, 1, 1, 0],\n",
    "  [1, 1, 1, 1]\n",
    "]) \n"
   ]
  },
  {
   "cell_type": "markdown",
   "id": "1dda7e42",
   "metadata": {},
   "source": [
    "### 4. A financial institution provides professional services to banks and claims charges from the customers based on the number of man-days provided. Internally, it has set a scheme to motivate and reward staff to meet and exceed targeted billable utilization and revenues by paying a bonus for each day claimed from customers in excess of a threshold target."
   ]
  },
  {
   "cell_type": "code",
   "execution_count": 26,
   "id": "9c12c30f",
   "metadata": {},
   "outputs": [],
   "source": [
    "def bonus(days):\n",
    "    \n",
    "    bonus = 0\n",
    "    for i in range(days + 1):\n",
    "        if i <= 32:\n",
    "            continue\n",
    "        if i > 32 and i <= 40:\n",
    "            bonus += 325\n",
    "        if i > 40 and i <= 48:\n",
    "            bonus += 550\n",
    "        if i > 48:\n",
    "            bonus += 600\n",
    "        \n",
    "    return bonus\n",
    "        "
   ]
  },
  {
   "cell_type": "code",
   "execution_count": 29,
   "id": "1ffca55a",
   "metadata": {},
   "outputs": [
    {
     "data": {
      "text/plain": [
       "0"
      ]
     },
     "execution_count": 29,
     "metadata": {},
     "output_type": "execute_result"
    }
   ],
   "source": [
    "bonus(15)"
   ]
  },
  {
   "cell_type": "code",
   "execution_count": 30,
   "id": "6085e5a0",
   "metadata": {},
   "outputs": [
    {
     "data": {
      "text/plain": [
       "1625"
      ]
     },
     "execution_count": 30,
     "metadata": {},
     "output_type": "execute_result"
    }
   ],
   "source": [
    "bonus(37)"
   ]
  },
  {
   "cell_type": "code",
   "execution_count": 31,
   "id": "1f32e49c",
   "metadata": {},
   "outputs": [
    {
     "data": {
      "text/plain": [
       "8200"
      ]
     },
     "execution_count": 31,
     "metadata": {},
     "output_type": "execute_result"
    }
   ],
   "source": [
    "bonus(50)"
   ]
  },
  {
   "cell_type": "markdown",
   "id": "f420070e",
   "metadata": {},
   "source": [
    "### 5. A number is said to be Disarium if the sum of its digits raised to their respective positions is the number itself."
   ]
  },
  {
   "cell_type": "code",
   "execution_count": 32,
   "id": "436a7568",
   "metadata": {},
   "outputs": [],
   "source": [
    "def is_disarium(num):\n",
    "    \n",
    "    temp = num\n",
    "    total = 0\n",
    "    itr = 1\n",
    "    \n",
    "    for i in str(num):\n",
    "        total += int(i)**itr\n",
    "        itr += 1\n",
    "        \n",
    "    return total == temp"
   ]
  },
  {
   "cell_type": "code",
   "execution_count": 33,
   "id": "3df5f1f1",
   "metadata": {},
   "outputs": [
    {
     "data": {
      "text/plain": [
       "False"
      ]
     },
     "execution_count": 33,
     "metadata": {},
     "output_type": "execute_result"
    }
   ],
   "source": [
    "is_disarium(75)"
   ]
  },
  {
   "cell_type": "code",
   "execution_count": 34,
   "id": "dea7775f",
   "metadata": {},
   "outputs": [
    {
     "data": {
      "text/plain": [
       "True"
      ]
     },
     "execution_count": 34,
     "metadata": {},
     "output_type": "execute_result"
    }
   ],
   "source": [
    "is_disarium(135)"
   ]
  },
  {
   "cell_type": "code",
   "execution_count": 35,
   "id": "5f33e2bf",
   "metadata": {},
   "outputs": [
    {
     "data": {
      "text/plain": [
       "False"
      ]
     },
     "execution_count": 35,
     "metadata": {},
     "output_type": "execute_result"
    }
   ],
   "source": [
    "is_disarium(544)"
   ]
  },
  {
   "cell_type": "code",
   "execution_count": 36,
   "id": "26c90cb6",
   "metadata": {},
   "outputs": [
    {
     "data": {
      "text/plain": [
       "True"
      ]
     },
     "execution_count": 36,
     "metadata": {},
     "output_type": "execute_result"
    }
   ],
   "source": [
    "is_disarium(518)"
   ]
  },
  {
   "cell_type": "code",
   "execution_count": 37,
   "id": "47cd75ad",
   "metadata": {},
   "outputs": [
    {
     "data": {
      "text/plain": [
       "False"
      ]
     },
     "execution_count": 37,
     "metadata": {},
     "output_type": "execute_result"
    }
   ],
   "source": [
    "is_disarium(466)"
   ]
  },
  {
   "cell_type": "code",
   "execution_count": 38,
   "id": "cb3195d0",
   "metadata": {},
   "outputs": [
    {
     "data": {
      "text/plain": [
       "True"
      ]
     },
     "execution_count": 38,
     "metadata": {},
     "output_type": "execute_result"
    }
   ],
   "source": [
    "is_disarium(8)"
   ]
  },
  {
   "cell_type": "code",
   "execution_count": null,
   "id": "bee368f5",
   "metadata": {},
   "outputs": [],
   "source": []
  }
 ],
 "metadata": {
  "kernelspec": {
   "display_name": "Python 3",
   "language": "python",
   "name": "python3"
  },
  "language_info": {
   "codemirror_mode": {
    "name": "ipython",
    "version": 3
   },
   "file_extension": ".py",
   "mimetype": "text/x-python",
   "name": "python",
   "nbconvert_exporter": "python",
   "pygments_lexer": "ipython3",
   "version": "3.8.8"
  }
 },
 "nbformat": 4,
 "nbformat_minor": 5
}
