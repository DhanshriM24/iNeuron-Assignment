{
 "cells": [
  {
   "cell_type": "markdown",
   "id": "bd56d079",
   "metadata": {},
   "source": [
    "## Python Advance Programming Assignment 5"
   ]
  },
  {
   "cell_type": "markdown",
   "id": "7459ca94",
   "metadata": {},
   "source": [
    "### 1. Create a function that takes a number n (integer greater than zero) as an argument, and returns 2 if n is odd and 8 if n is even."
   ]
  },
  {
   "cell_type": "code",
   "execution_count": 3,
   "id": "57d28cc1",
   "metadata": {},
   "outputs": [],
   "source": [
    "def f(n):\n",
    "    output = {0.5:2, 0.0:8}\n",
    "    b = n/2 - n//2  \n",
    "    return output[b]"
   ]
  },
  {
   "cell_type": "code",
   "execution_count": 4,
   "id": "9f2dd998",
   "metadata": {},
   "outputs": [
    {
     "name": "stdout",
     "output_type": "stream",
     "text": [
      "2\n",
      "8\n",
      "2\n"
     ]
    }
   ],
   "source": [
    "print(f(1))\n",
    "print(f(8))\n",
    "print(f(3))"
   ]
  },
  {
   "cell_type": "markdown",
   "id": "367d9045",
   "metadata": {},
   "source": [
    "### 2. Create a function that returns the majority vote in a list. A majority vote is an element that occurs &gt; N/2 times in a list (where N is the length of the list)."
   ]
  },
  {
   "cell_type": "code",
   "execution_count": 7,
   "id": "49ab4d8d",
   "metadata": {},
   "outputs": [],
   "source": [
    "def majority_vote(votes):\n",
    "    for i in set(votes): # using set to reduce iterations\n",
    "        if votes.count(i) > len(votes)/2:\n",
    "            return i\n",
    "    else:\n",
    "        return None"
   ]
  },
  {
   "cell_type": "code",
   "execution_count": 8,
   "id": "11d27c2d",
   "metadata": {},
   "outputs": [
    {
     "name": "stdout",
     "output_type": "stream",
     "text": [
      "A\n",
      "A\n",
      "None\n"
     ]
    }
   ],
   "source": [
    "print(majority_vote(['A', 'A', 'B']))\n",
    "print(majority_vote(['A', 'A', 'A', 'B', 'C', 'A']))\n",
    "print(majority_vote(['A', 'B', 'B', 'A', 'C', 'C']))"
   ]
  },
  {
   "cell_type": "markdown",
   "id": "606f4dd2",
   "metadata": {},
   "source": [
    "### 3. Create a function that takes a string txt and censors any word from a given list lst. The text removed must be replaced by the given character char."
   ]
  },
  {
   "cell_type": "code",
   "execution_count": 9,
   "id": "0cdae752",
   "metadata": {},
   "outputs": [],
   "source": [
    "def censor_string(s1: str, l1, s3):\n",
    "    \n",
    "    s1_list = s1.split(' ')\n",
    "    out_list = []\n",
    "    \n",
    "    for i in s1_list:\n",
    "        if i in l1:\n",
    "            for j in i:\n",
    "                i = i.replace(j, s3)\n",
    "        out_list.append(i)\n",
    "                \n",
    "    return \" \".join(out_list)"
   ]
  },
  {
   "cell_type": "code",
   "execution_count": 10,
   "id": "903d3712",
   "metadata": {},
   "outputs": [
    {
     "data": {
      "text/plain": [
       "'----- is - Wednesday!'"
      ]
     },
     "execution_count": 10,
     "metadata": {},
     "output_type": "execute_result"
    }
   ],
   "source": [
    "censor_string('Today is a Wednesday!', ['Today', 'a'],'-')"
   ]
  },
  {
   "cell_type": "code",
   "execution_count": 15,
   "id": "909bcc15",
   "metadata": {},
   "outputs": [
    {
     "data": {
      "text/plain": [
       "('The *** jumped **** the moon.',)"
      ]
     },
     "execution_count": 15,
     "metadata": {},
     "output_type": "execute_result"
    }
   ],
   "source": [
    "censor_string('The cow jumped over the moon.', ['cow', 'over'], '*'),"
   ]
  },
  {
   "cell_type": "markdown",
   "id": "cc8781ba",
   "metadata": {},
   "source": [
    "### 4. In mathematics a Polydivisible Number (or magic number) is a number in a given number base with digits abcde... that has the following properties:"
   ]
  },
  {
   "cell_type": "code",
   "execution_count": 16,
   "id": "422f5195",
   "metadata": {},
   "outputs": [],
   "source": [
    "def is_polydivisible(n):\n",
    "    \n",
    "    flag = True\n",
    "    divisor = 10**(len(str(n))-1)\n",
    "    itr = 0\n",
    "    \n",
    "    while(divisor > 0):\n",
    "        itr += 1\n",
    "        #print(n, divisor, num//divisor, itr)\n",
    "        if (n//divisor)%itr != 0:\n",
    "            flag = False\n",
    "            return flag\n",
    "        divisor = divisor // 10\n",
    "\n",
    "    return flag"
   ]
  },
  {
   "cell_type": "code",
   "execution_count": 19,
   "id": "0b2f3ae2",
   "metadata": {},
   "outputs": [
    {
     "data": {
      "text/plain": [
       "True"
      ]
     },
     "execution_count": 19,
     "metadata": {},
     "output_type": "execute_result"
    }
   ],
   "source": [
    "is_polydivisible(1232)"
   ]
  },
  {
   "cell_type": "code",
   "execution_count": 20,
   "id": "a21a9c36",
   "metadata": {},
   "outputs": [
    {
     "data": {
      "text/plain": [
       "False"
      ]
     },
     "execution_count": 20,
     "metadata": {},
     "output_type": "execute_result"
    }
   ],
   "source": [
    "is_polydivisible(123220)"
   ]
  },
  {
   "cell_type": "markdown",
   "id": "ca049efa",
   "metadata": {},
   "source": [
    "### 5. Create a function that takes a list of numbers and returns the sum of all prime numbers in the list."
   ]
  },
  {
   "cell_type": "code",
   "execution_count": 24,
   "id": "0fa5e306",
   "metadata": {},
   "outputs": [],
   "source": [
    "def is_prime(n):\n",
    "    d = 2\n",
    "    while(d*d <= n):\n",
    "        if(n%d==0):\n",
    "            return False\n",
    "        d = d + 1\n",
    "\n",
    "    return True"
   ]
  },
  {
   "cell_type": "code",
   "execution_count": 25,
   "id": "2176fde7",
   "metadata": {},
   "outputs": [],
   "source": [
    "def sum_primes(l):\n",
    "    \n",
    "    output = 0\n",
    "    \n",
    "    for i in l:\n",
    "        if is_prime(i):\n",
    "            output += i\n",
    "            \n",
    "    if output == 0:\n",
    "        output = \"None\"\n",
    "    return output"
   ]
  },
  {
   "cell_type": "code",
   "execution_count": 29,
   "id": "b7d30d0e",
   "metadata": {},
   "outputs": [
    {
     "data": {
      "text/plain": [
       "18"
      ]
     },
     "execution_count": 29,
     "metadata": {},
     "output_type": "execute_result"
    }
   ],
   "source": [
    "sum_primes([1, 2, 3, 4, 5, 6, 7, 8, 9, 10])"
   ]
  },
  {
   "cell_type": "code",
   "execution_count": 31,
   "id": "c64bfa4e",
   "metadata": {},
   "outputs": [
    {
     "data": {
      "text/plain": [
       "87"
      ]
     },
     "execution_count": 31,
     "metadata": {},
     "output_type": "execute_result"
    }
   ],
   "source": [
    "sum_primes([2, 3, 4, 11, 20, 50, 71])"
   ]
  },
  {
   "cell_type": "code",
   "execution_count": 30,
   "id": "8f93cbeb",
   "metadata": {},
   "outputs": [
    {
     "data": {
      "text/plain": [
       "'None'"
      ]
     },
     "execution_count": 30,
     "metadata": {},
     "output_type": "execute_result"
    }
   ],
   "source": [
    "sum_primes([])"
   ]
  },
  {
   "cell_type": "code",
   "execution_count": null,
   "id": "d0f4be3f",
   "metadata": {},
   "outputs": [],
   "source": []
  }
 ],
 "metadata": {
  "kernelspec": {
   "display_name": "Python 3",
   "language": "python",
   "name": "python3"
  },
  "language_info": {
   "codemirror_mode": {
    "name": "ipython",
    "version": 3
   },
   "file_extension": ".py",
   "mimetype": "text/x-python",
   "name": "python",
   "nbconvert_exporter": "python",
   "pygments_lexer": "ipython3",
   "version": "3.8.8"
  }
 },
 "nbformat": 4,
 "nbformat_minor": 5
}
