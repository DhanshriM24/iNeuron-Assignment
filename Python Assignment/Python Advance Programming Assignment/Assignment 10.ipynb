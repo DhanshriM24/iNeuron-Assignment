{
 "cells": [
  {
   "cell_type": "markdown",
   "id": "5393ec13",
   "metadata": {},
   "source": [
    "## Python Advance Programming Assignment 10"
   ]
  },
  {
   "cell_type": "markdown",
   "id": "77f97bf0",
   "metadata": {},
   "source": [
    "### 1. Create a function that takes the width, height and character and returns a picture frame as a 2D list."
   ]
  },
  {
   "cell_type": "code",
   "execution_count": 5,
   "id": "0bb20063",
   "metadata": {},
   "outputs": [],
   "source": [
    "def get_frame(width,height,character):\n",
    "    if width <= 2:\n",
    "        print(\"Invalid\")\n",
    "    else:\n",
    "        output = []\n",
    "        for h in range(height):\n",
    "            if h == 0 or h == height-1:\n",
    "                output.append([width*character])\n",
    "            else:\n",
    "                output.append([character+' '*(width-2)+character])\n",
    "        for i in output:\n",
    "            print(i)\n",
    "        print()"
   ]
  },
  {
   "cell_type": "code",
   "execution_count": 6,
   "id": "1b02af31",
   "metadata": {},
   "outputs": [
    {
     "name": "stdout",
     "output_type": "stream",
     "text": [
      "['####']\n",
      "['#  #']\n",
      "['#  #']\n",
      "['#  #']\n",
      "['####']\n",
      "\n",
      "['**********']\n",
      "['*        *']\n",
      "['**********']\n",
      "\n",
      "Invalid\n"
     ]
    }
   ],
   "source": [
    "get_frame(4, 5, \"#\")\n",
    "get_frame(10, 3, \"*\")\n",
    "get_frame(2, 5, \"0\")"
   ]
  },
  {
   "cell_type": "markdown",
   "id": "6fde1a9c",
   "metadata": {},
   "source": [
    "### 2. Write three functions:\n",
    "  1. boolean_and\n",
    "  2. boolean_or\n",
    "  3. boolean_xor\n",
    "  \n",
    "These functions should evaluate a list of True and False values, starting from the leftmost element and evaluating pairwise."
   ]
  },
  {
   "cell_type": "code",
   "execution_count": 13,
   "id": "f459f7c7",
   "metadata": {},
   "outputs": [],
   "source": [
    "def boolean_and(lst):\n",
    "    while len(lst) != 1:\n",
    "        x = lst.pop(0)\n",
    "        y = lst.pop(0)\n",
    "        lst.insert(0,(x and y))\n",
    "    print(lst[0])\n",
    "    \n",
    "def boolean_or(lst):\n",
    "    while len(lst) != 1:\n",
    "        x = lst.pop(0)\n",
    "        y = lst.pop(0)\n",
    "        lst.insert(0,(x or y))\n",
    "    print(lst[0])\n",
    "    \n",
    "def boolean_xor(lst):\n",
    "    while len(lst) != 1:\n",
    "        x = lst.pop(0)\n",
    "        y = lst.pop(0)\n",
    "        lst.insert(0,(x ^ y))\n",
    "    print(lst[0])"
   ]
  },
  {
   "cell_type": "code",
   "execution_count": 14,
   "id": "84e58b66",
   "metadata": {},
   "outputs": [
    {
     "name": "stdout",
     "output_type": "stream",
     "text": [
      "False\n",
      "True\n",
      "False\n"
     ]
    }
   ],
   "source": [
    "boolean_and([True, True, False, True])\n",
    "boolean_or([True, True, False, False])\n",
    "boolean_xor([True, True, False, False])"
   ]
  },
  {
   "cell_type": "markdown",
   "id": "8ada2d1f",
   "metadata": {},
   "source": [
    "### 3. Create a function that creates a box based on dimension n."
   ]
  },
  {
   "cell_type": "code",
   "execution_count": 17,
   "id": "d4ea5966",
   "metadata": {},
   "outputs": [],
   "source": [
    "def make_box(dimension):\n",
    "    output = []\n",
    "    for i in range(dimension):\n",
    "        if i == 0 or i == dimension-1:\n",
    "            output.append('#'*dimension)\n",
    "        else:\n",
    "            output.append('#'+' '*(dimension-2)+'#')\n",
    "    for i in output:\n",
    "        print(i)\n",
    "    print()"
   ]
  },
  {
   "cell_type": "code",
   "execution_count": 19,
   "id": "60649c2c",
   "metadata": {},
   "outputs": [
    {
     "name": "stdout",
     "output_type": "stream",
     "text": [
      "#####\n",
      "#   #\n",
      "#   #\n",
      "#   #\n",
      "#####\n",
      "\n"
     ]
    }
   ],
   "source": [
    "make_box(5)   "
   ]
  },
  {
   "cell_type": "code",
   "execution_count": 20,
   "id": "e9054197",
   "metadata": {},
   "outputs": [
    {
     "name": "stdout",
     "output_type": "stream",
     "text": [
      "##\n",
      "##\n",
      "\n"
     ]
    }
   ],
   "source": [
    "make_box(2)"
   ]
  },
  {
   "cell_type": "code",
   "execution_count": 21,
   "id": "4c9173fa",
   "metadata": {},
   "outputs": [
    {
     "name": "stdout",
     "output_type": "stream",
     "text": [
      "#\n",
      "\n"
     ]
    }
   ],
   "source": [
    "make_box(1)"
   ]
  },
  {
   "cell_type": "markdown",
   "id": "e417f461",
   "metadata": {},
   "source": [
    "### 4. Given a common phrase, return False if any individual word in the phrase contains duplicate letters. Return True otherwise. "
   ]
  },
  {
   "cell_type": "code",
   "execution_count": 27,
   "id": "312fdab8",
   "metadata": {},
   "outputs": [],
   "source": [
    "def no_duplicate_letters(string):\n",
    "    output = None\n",
    "    for i in string.split(' '):\n",
    "        if len(i) == len(set(i)):\n",
    "            output = True\n",
    "        else:\n",
    "            output = False\n",
    "            break\n",
    "    print(output)"
   ]
  },
  {
   "cell_type": "code",
   "execution_count": 28,
   "id": "f055f041",
   "metadata": {},
   "outputs": [
    {
     "name": "stdout",
     "output_type": "stream",
     "text": [
      "True\n",
      "True\n",
      "False\n",
      "False\n"
     ]
    }
   ],
   "source": [
    "no_duplicate_letters(\"Fortune favours the bold.\")\n",
    "no_duplicate_letters(\"You can lead a horse to water, but you can't make him drink.\")\n",
    "no_duplicate_letters(\"Look before you leap.\")\n",
    "no_duplicate_letters(\"An apple a day keeps the doctor away.\")"
   ]
  },
  {
   "cell_type": "markdown",
   "id": "8667486a",
   "metadata": {},
   "source": [
    "### 5. Write a regular expression that will match the states that voted yes to President Trump's impeachment. You must use RegEx positive lookahead."
   ]
  },
  {
   "cell_type": "code",
   "execution_count": 29,
   "id": "2b164e2c",
   "metadata": {},
   "outputs": [
    {
     "name": "stdout",
     "output_type": "stream",
     "text": [
      "['California', 'Florida']\n"
     ]
    }
   ],
   "source": [
    "import re\n",
    "txt = \"Texas = no, California = yes, Florida = yes, Michigan = no\"\n",
    "pattern = r'\\w+(?=\\s=\\syes*)'\n",
    "match = re.findall(pattern,txt)\n",
    "print(match)"
   ]
  },
  {
   "cell_type": "code",
   "execution_count": null,
   "id": "52136ba4",
   "metadata": {},
   "outputs": [],
   "source": []
  }
 ],
 "metadata": {
  "kernelspec": {
   "display_name": "Python 3",
   "language": "python",
   "name": "python3"
  },
  "language_info": {
   "codemirror_mode": {
    "name": "ipython",
    "version": 3
   },
   "file_extension": ".py",
   "mimetype": "text/x-python",
   "name": "python",
   "nbconvert_exporter": "python",
   "pygments_lexer": "ipython3",
   "version": "3.8.8"
  }
 },
 "nbformat": 4,
 "nbformat_minor": 5
}
